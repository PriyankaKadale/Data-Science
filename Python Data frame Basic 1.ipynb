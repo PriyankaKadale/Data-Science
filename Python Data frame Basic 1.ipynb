{
 "cells": [
  {
   "cell_type": "code",
   "execution_count": 1,
   "metadata": {
    "ExecuteTime": {
     "end_time": "2021-05-01T03:55:02.728978Z",
     "start_time": "2021-05-01T03:54:58.278667Z"
    }
   },
   "outputs": [
    {
     "name": "stdout",
     "output_type": "stream",
     "text": [
      "Requirement already satisfied: pandas in c:\\users\\chetana\\anaconda3\\lib\\site-packages (1.1.3)\n",
      "Requirement already satisfied: pytz>=2017.2 in c:\\users\\chetana\\anaconda3\\lib\\site-packages (from pandas) (2020.1)\n",
      "Requirement already satisfied: python-dateutil>=2.7.3 in c:\\users\\chetana\\anaconda3\\lib\\site-packages (from pandas) (2.8.1)\n",
      "Requirement already satisfied: numpy>=1.15.4 in c:\\users\\chetana\\anaconda3\\lib\\site-packages (from pandas) (1.19.2)\n",
      "Requirement already satisfied: six>=1.5 in c:\\users\\chetana\\anaconda3\\lib\\site-packages (from python-dateutil>=2.7.3->pandas) (1.15.0)\n"
     ]
    }
   ],
   "source": [
    "! pip install pandas"
   ]
  },
  {
   "cell_type": "code",
   "execution_count": 4,
   "metadata": {
    "ExecuteTime": {
     "end_time": "2021-05-01T03:59:21.489384Z",
     "start_time": "2021-05-01T03:59:21.422842Z"
    }
   },
   "outputs": [],
   "source": [
    "sbi= pd.read_csv(\"C:/Users/Chetana/AnacondaPgm/Data Files/SBIN.NS.csv\") #reading csv file"
   ]
  },
  {
   "cell_type": "code",
   "execution_count": 2,
   "metadata": {
    "ExecuteTime": {
     "end_time": "2021-05-01T03:57:27.030613Z",
     "start_time": "2021-05-01T03:56:24.852702Z"
    }
   },
   "outputs": [
    {
     "name": "stderr",
     "output_type": "stream",
     "text": [
      "Matplotlib is building the font cache; this may take a moment.\n"
     ]
    }
   ],
   "source": [
    "import pandas as pd\n",
    "import numpy as np\n",
    "import matplotlib as mpl\n",
    "import seaborn as sns"
   ]
  },
  {
   "cell_type": "code",
   "execution_count": 5,
   "metadata": {
    "ExecuteTime": {
     "end_time": "2021-05-01T03:59:46.583489Z",
     "start_time": "2021-05-01T03:59:46.453348Z"
    }
   },
   "outputs": [
    {
     "data": {
      "text/html": [
       "<div>\n",
       "<style scoped>\n",
       "    .dataframe tbody tr th:only-of-type {\n",
       "        vertical-align: middle;\n",
       "    }\n",
       "\n",
       "    .dataframe tbody tr th {\n",
       "        vertical-align: top;\n",
       "    }\n",
       "\n",
       "    .dataframe thead th {\n",
       "        text-align: right;\n",
       "    }\n",
       "</style>\n",
       "<table border=\"1\" class=\"dataframe\">\n",
       "  <thead>\n",
       "    <tr style=\"text-align: right;\">\n",
       "      <th></th>\n",
       "      <th>Date</th>\n",
       "      <th>Open</th>\n",
       "      <th>High</th>\n",
       "      <th>Low</th>\n",
       "      <th>Close</th>\n",
       "      <th>Adj Close</th>\n",
       "      <th>Volume</th>\n",
       "    </tr>\n",
       "  </thead>\n",
       "  <tbody>\n",
       "    <tr>\n",
       "      <th>0</th>\n",
       "      <td>2020-04-27</td>\n",
       "      <td>183.500000</td>\n",
       "      <td>183.500000</td>\n",
       "      <td>180.500000</td>\n",
       "      <td>180.899994</td>\n",
       "      <td>180.899994</td>\n",
       "      <td>42996571.0</td>\n",
       "    </tr>\n",
       "    <tr>\n",
       "      <th>1</th>\n",
       "      <td>2020-04-28</td>\n",
       "      <td>182.000000</td>\n",
       "      <td>185.350006</td>\n",
       "      <td>181.199997</td>\n",
       "      <td>184.300003</td>\n",
       "      <td>184.300003</td>\n",
       "      <td>49590230.0</td>\n",
       "    </tr>\n",
       "    <tr>\n",
       "      <th>2</th>\n",
       "      <td>2020-04-29</td>\n",
       "      <td>185.000000</td>\n",
       "      <td>191.800003</td>\n",
       "      <td>183.500000</td>\n",
       "      <td>190.100006</td>\n",
       "      <td>190.100006</td>\n",
       "      <td>57470466.0</td>\n",
       "    </tr>\n",
       "    <tr>\n",
       "      <th>3</th>\n",
       "      <td>2020-04-30</td>\n",
       "      <td>193.500000</td>\n",
       "      <td>195.899994</td>\n",
       "      <td>189.699997</td>\n",
       "      <td>190.500000</td>\n",
       "      <td>190.500000</td>\n",
       "      <td>63063889.0</td>\n",
       "    </tr>\n",
       "    <tr>\n",
       "      <th>4</th>\n",
       "      <td>2020-05-04</td>\n",
       "      <td>182.449997</td>\n",
       "      <td>183.500000</td>\n",
       "      <td>178.000000</td>\n",
       "      <td>178.850006</td>\n",
       "      <td>178.850006</td>\n",
       "      <td>58118177.0</td>\n",
       "    </tr>\n",
       "    <tr>\n",
       "      <th>...</th>\n",
       "      <td>...</td>\n",
       "      <td>...</td>\n",
       "      <td>...</td>\n",
       "      <td>...</td>\n",
       "      <td>...</td>\n",
       "      <td>...</td>\n",
       "      <td>...</td>\n",
       "    </tr>\n",
       "    <tr>\n",
       "      <th>244</th>\n",
       "      <td>2021-04-16</td>\n",
       "      <td>343.000000</td>\n",
       "      <td>345.500000</td>\n",
       "      <td>338.649994</td>\n",
       "      <td>339.899994</td>\n",
       "      <td>339.899994</td>\n",
       "      <td>37766793.0</td>\n",
       "    </tr>\n",
       "    <tr>\n",
       "      <th>245</th>\n",
       "      <td>2021-04-19</td>\n",
       "      <td>327.149994</td>\n",
       "      <td>332.049988</td>\n",
       "      <td>321.299988</td>\n",
       "      <td>331.149994</td>\n",
       "      <td>331.149994</td>\n",
       "      <td>53304377.0</td>\n",
       "    </tr>\n",
       "    <tr>\n",
       "      <th>246</th>\n",
       "      <td>2021-04-20</td>\n",
       "      <td>335.100006</td>\n",
       "      <td>339.899994</td>\n",
       "      <td>326.700012</td>\n",
       "      <td>329.500000</td>\n",
       "      <td>329.500000</td>\n",
       "      <td>41296147.0</td>\n",
       "    </tr>\n",
       "    <tr>\n",
       "      <th>247</th>\n",
       "      <td>2021-04-22</td>\n",
       "      <td>326.000000</td>\n",
       "      <td>337.649994</td>\n",
       "      <td>323.299988</td>\n",
       "      <td>336.649994</td>\n",
       "      <td>336.649994</td>\n",
       "      <td>49105833.0</td>\n",
       "    </tr>\n",
       "    <tr>\n",
       "      <th>248</th>\n",
       "      <td>2021-04-23</td>\n",
       "      <td>331.649994</td>\n",
       "      <td>339.899994</td>\n",
       "      <td>331.649994</td>\n",
       "      <td>336.450012</td>\n",
       "      <td>336.450012</td>\n",
       "      <td>44223940.0</td>\n",
       "    </tr>\n",
       "  </tbody>\n",
       "</table>\n",
       "<p>249 rows × 7 columns</p>\n",
       "</div>"
      ],
      "text/plain": [
       "           Date        Open        High         Low       Close   Adj Close  \\\n",
       "0    2020-04-27  183.500000  183.500000  180.500000  180.899994  180.899994   \n",
       "1    2020-04-28  182.000000  185.350006  181.199997  184.300003  184.300003   \n",
       "2    2020-04-29  185.000000  191.800003  183.500000  190.100006  190.100006   \n",
       "3    2020-04-30  193.500000  195.899994  189.699997  190.500000  190.500000   \n",
       "4    2020-05-04  182.449997  183.500000  178.000000  178.850006  178.850006   \n",
       "..          ...         ...         ...         ...         ...         ...   \n",
       "244  2021-04-16  343.000000  345.500000  338.649994  339.899994  339.899994   \n",
       "245  2021-04-19  327.149994  332.049988  321.299988  331.149994  331.149994   \n",
       "246  2021-04-20  335.100006  339.899994  326.700012  329.500000  329.500000   \n",
       "247  2021-04-22  326.000000  337.649994  323.299988  336.649994  336.649994   \n",
       "248  2021-04-23  331.649994  339.899994  331.649994  336.450012  336.450012   \n",
       "\n",
       "         Volume  \n",
       "0    42996571.0  \n",
       "1    49590230.0  \n",
       "2    57470466.0  \n",
       "3    63063889.0  \n",
       "4    58118177.0  \n",
       "..          ...  \n",
       "244  37766793.0  \n",
       "245  53304377.0  \n",
       "246  41296147.0  \n",
       "247  49105833.0  \n",
       "248  44223940.0  \n",
       "\n",
       "[249 rows x 7 columns]"
      ]
     },
     "execution_count": 5,
     "metadata": {},
     "output_type": "execute_result"
    }
   ],
   "source": [
    "sbi"
   ]
  },
  {
   "cell_type": "code",
   "execution_count": 6,
   "metadata": {
    "ExecuteTime": {
     "end_time": "2021-05-01T04:04:46.831048Z",
     "start_time": "2021-05-01T04:04:46.796331Z"
    }
   },
   "outputs": [
    {
     "data": {
      "text/html": [
       "<div>\n",
       "<style scoped>\n",
       "    .dataframe tbody tr th:only-of-type {\n",
       "        vertical-align: middle;\n",
       "    }\n",
       "\n",
       "    .dataframe tbody tr th {\n",
       "        vertical-align: top;\n",
       "    }\n",
       "\n",
       "    .dataframe thead th {\n",
       "        text-align: right;\n",
       "    }\n",
       "</style>\n",
       "<table border=\"1\" class=\"dataframe\">\n",
       "  <thead>\n",
       "    <tr style=\"text-align: right;\">\n",
       "      <th></th>\n",
       "      <th>Date</th>\n",
       "      <th>Open</th>\n",
       "      <th>High</th>\n",
       "      <th>Low</th>\n",
       "      <th>Close</th>\n",
       "      <th>Adj Close</th>\n",
       "      <th>Volume</th>\n",
       "    </tr>\n",
       "  </thead>\n",
       "  <tbody>\n",
       "    <tr>\n",
       "      <th>0</th>\n",
       "      <td>2020-04-27</td>\n",
       "      <td>183.500000</td>\n",
       "      <td>183.500000</td>\n",
       "      <td>180.500000</td>\n",
       "      <td>180.899994</td>\n",
       "      <td>180.899994</td>\n",
       "      <td>42996571.0</td>\n",
       "    </tr>\n",
       "    <tr>\n",
       "      <th>1</th>\n",
       "      <td>2020-04-28</td>\n",
       "      <td>182.000000</td>\n",
       "      <td>185.350006</td>\n",
       "      <td>181.199997</td>\n",
       "      <td>184.300003</td>\n",
       "      <td>184.300003</td>\n",
       "      <td>49590230.0</td>\n",
       "    </tr>\n",
       "    <tr>\n",
       "      <th>2</th>\n",
       "      <td>2020-04-29</td>\n",
       "      <td>185.000000</td>\n",
       "      <td>191.800003</td>\n",
       "      <td>183.500000</td>\n",
       "      <td>190.100006</td>\n",
       "      <td>190.100006</td>\n",
       "      <td>57470466.0</td>\n",
       "    </tr>\n",
       "    <tr>\n",
       "      <th>3</th>\n",
       "      <td>2020-04-30</td>\n",
       "      <td>193.500000</td>\n",
       "      <td>195.899994</td>\n",
       "      <td>189.699997</td>\n",
       "      <td>190.500000</td>\n",
       "      <td>190.500000</td>\n",
       "      <td>63063889.0</td>\n",
       "    </tr>\n",
       "    <tr>\n",
       "      <th>4</th>\n",
       "      <td>2020-05-04</td>\n",
       "      <td>182.449997</td>\n",
       "      <td>183.500000</td>\n",
       "      <td>178.000000</td>\n",
       "      <td>178.850006</td>\n",
       "      <td>178.850006</td>\n",
       "      <td>58118177.0</td>\n",
       "    </tr>\n",
       "  </tbody>\n",
       "</table>\n",
       "</div>"
      ],
      "text/plain": [
       "         Date        Open        High         Low       Close   Adj Close  \\\n",
       "0  2020-04-27  183.500000  183.500000  180.500000  180.899994  180.899994   \n",
       "1  2020-04-28  182.000000  185.350006  181.199997  184.300003  184.300003   \n",
       "2  2020-04-29  185.000000  191.800003  183.500000  190.100006  190.100006   \n",
       "3  2020-04-30  193.500000  195.899994  189.699997  190.500000  190.500000   \n",
       "4  2020-05-04  182.449997  183.500000  178.000000  178.850006  178.850006   \n",
       "\n",
       "       Volume  \n",
       "0  42996571.0  \n",
       "1  49590230.0  \n",
       "2  57470466.0  \n",
       "3  63063889.0  \n",
       "4  58118177.0  "
      ]
     },
     "execution_count": 6,
     "metadata": {},
     "output_type": "execute_result"
    }
   ],
   "source": [
    "sbi.head()"
   ]
  },
  {
   "cell_type": "code",
   "execution_count": 7,
   "metadata": {
    "ExecuteTime": {
     "end_time": "2021-05-01T04:05:00.510408Z",
     "start_time": "2021-05-01T04:05:00.481855Z"
    }
   },
   "outputs": [
    {
     "data": {
      "text/html": [
       "<div>\n",
       "<style scoped>\n",
       "    .dataframe tbody tr th:only-of-type {\n",
       "        vertical-align: middle;\n",
       "    }\n",
       "\n",
       "    .dataframe tbody tr th {\n",
       "        vertical-align: top;\n",
       "    }\n",
       "\n",
       "    .dataframe thead th {\n",
       "        text-align: right;\n",
       "    }\n",
       "</style>\n",
       "<table border=\"1\" class=\"dataframe\">\n",
       "  <thead>\n",
       "    <tr style=\"text-align: right;\">\n",
       "      <th></th>\n",
       "      <th>Date</th>\n",
       "      <th>Open</th>\n",
       "      <th>High</th>\n",
       "      <th>Low</th>\n",
       "      <th>Close</th>\n",
       "      <th>Adj Close</th>\n",
       "      <th>Volume</th>\n",
       "    </tr>\n",
       "  </thead>\n",
       "  <tbody>\n",
       "    <tr>\n",
       "      <th>0</th>\n",
       "      <td>2020-04-27</td>\n",
       "      <td>183.500000</td>\n",
       "      <td>183.500000</td>\n",
       "      <td>180.500000</td>\n",
       "      <td>180.899994</td>\n",
       "      <td>180.899994</td>\n",
       "      <td>42996571.0</td>\n",
       "    </tr>\n",
       "    <tr>\n",
       "      <th>1</th>\n",
       "      <td>2020-04-28</td>\n",
       "      <td>182.000000</td>\n",
       "      <td>185.350006</td>\n",
       "      <td>181.199997</td>\n",
       "      <td>184.300003</td>\n",
       "      <td>184.300003</td>\n",
       "      <td>49590230.0</td>\n",
       "    </tr>\n",
       "    <tr>\n",
       "      <th>2</th>\n",
       "      <td>2020-04-29</td>\n",
       "      <td>185.000000</td>\n",
       "      <td>191.800003</td>\n",
       "      <td>183.500000</td>\n",
       "      <td>190.100006</td>\n",
       "      <td>190.100006</td>\n",
       "      <td>57470466.0</td>\n",
       "    </tr>\n",
       "    <tr>\n",
       "      <th>3</th>\n",
       "      <td>2020-04-30</td>\n",
       "      <td>193.500000</td>\n",
       "      <td>195.899994</td>\n",
       "      <td>189.699997</td>\n",
       "      <td>190.500000</td>\n",
       "      <td>190.500000</td>\n",
       "      <td>63063889.0</td>\n",
       "    </tr>\n",
       "    <tr>\n",
       "      <th>4</th>\n",
       "      <td>2020-05-04</td>\n",
       "      <td>182.449997</td>\n",
       "      <td>183.500000</td>\n",
       "      <td>178.000000</td>\n",
       "      <td>178.850006</td>\n",
       "      <td>178.850006</td>\n",
       "      <td>58118177.0</td>\n",
       "    </tr>\n",
       "    <tr>\n",
       "      <th>5</th>\n",
       "      <td>2020-05-05</td>\n",
       "      <td>181.000000</td>\n",
       "      <td>181.250000</td>\n",
       "      <td>168.800003</td>\n",
       "      <td>170.399994</td>\n",
       "      <td>170.399994</td>\n",
       "      <td>91050439.0</td>\n",
       "    </tr>\n",
       "    <tr>\n",
       "      <th>6</th>\n",
       "      <td>2020-05-06</td>\n",
       "      <td>171.149994</td>\n",
       "      <td>173.300003</td>\n",
       "      <td>166.550003</td>\n",
       "      <td>171.100006</td>\n",
       "      <td>171.100006</td>\n",
       "      <td>73156432.0</td>\n",
       "    </tr>\n",
       "    <tr>\n",
       "      <th>7</th>\n",
       "      <td>2020-05-07</td>\n",
       "      <td>170.850006</td>\n",
       "      <td>172.550003</td>\n",
       "      <td>168.800003</td>\n",
       "      <td>170.750000</td>\n",
       "      <td>170.750000</td>\n",
       "      <td>42942399.0</td>\n",
       "    </tr>\n",
       "    <tr>\n",
       "      <th>8</th>\n",
       "      <td>2020-05-08</td>\n",
       "      <td>172.449997</td>\n",
       "      <td>173.800003</td>\n",
       "      <td>166.100006</td>\n",
       "      <td>166.649994</td>\n",
       "      <td>166.649994</td>\n",
       "      <td>55932236.0</td>\n",
       "    </tr>\n",
       "    <tr>\n",
       "      <th>9</th>\n",
       "      <td>2020-05-11</td>\n",
       "      <td>167.949997</td>\n",
       "      <td>168.899994</td>\n",
       "      <td>165.000000</td>\n",
       "      <td>165.449997</td>\n",
       "      <td>165.449997</td>\n",
       "      <td>54591827.0</td>\n",
       "    </tr>\n",
       "  </tbody>\n",
       "</table>\n",
       "</div>"
      ],
      "text/plain": [
       "         Date        Open        High         Low       Close   Adj Close  \\\n",
       "0  2020-04-27  183.500000  183.500000  180.500000  180.899994  180.899994   \n",
       "1  2020-04-28  182.000000  185.350006  181.199997  184.300003  184.300003   \n",
       "2  2020-04-29  185.000000  191.800003  183.500000  190.100006  190.100006   \n",
       "3  2020-04-30  193.500000  195.899994  189.699997  190.500000  190.500000   \n",
       "4  2020-05-04  182.449997  183.500000  178.000000  178.850006  178.850006   \n",
       "5  2020-05-05  181.000000  181.250000  168.800003  170.399994  170.399994   \n",
       "6  2020-05-06  171.149994  173.300003  166.550003  171.100006  171.100006   \n",
       "7  2020-05-07  170.850006  172.550003  168.800003  170.750000  170.750000   \n",
       "8  2020-05-08  172.449997  173.800003  166.100006  166.649994  166.649994   \n",
       "9  2020-05-11  167.949997  168.899994  165.000000  165.449997  165.449997   \n",
       "\n",
       "       Volume  \n",
       "0  42996571.0  \n",
       "1  49590230.0  \n",
       "2  57470466.0  \n",
       "3  63063889.0  \n",
       "4  58118177.0  \n",
       "5  91050439.0  \n",
       "6  73156432.0  \n",
       "7  42942399.0  \n",
       "8  55932236.0  \n",
       "9  54591827.0  "
      ]
     },
     "execution_count": 7,
     "metadata": {},
     "output_type": "execute_result"
    }
   ],
   "source": [
    "sbi.head(10)"
   ]
  },
  {
   "cell_type": "code",
   "execution_count": 8,
   "metadata": {
    "ExecuteTime": {
     "end_time": "2021-05-01T04:05:29.342899Z",
     "start_time": "2021-05-01T04:05:29.315404Z"
    }
   },
   "outputs": [
    {
     "data": {
      "text/html": [
       "<div>\n",
       "<style scoped>\n",
       "    .dataframe tbody tr th:only-of-type {\n",
       "        vertical-align: middle;\n",
       "    }\n",
       "\n",
       "    .dataframe tbody tr th {\n",
       "        vertical-align: top;\n",
       "    }\n",
       "\n",
       "    .dataframe thead th {\n",
       "        text-align: right;\n",
       "    }\n",
       "</style>\n",
       "<table border=\"1\" class=\"dataframe\">\n",
       "  <thead>\n",
       "    <tr style=\"text-align: right;\">\n",
       "      <th></th>\n",
       "      <th>Date</th>\n",
       "      <th>Open</th>\n",
       "      <th>High</th>\n",
       "      <th>Low</th>\n",
       "      <th>Close</th>\n",
       "      <th>Adj Close</th>\n",
       "      <th>Volume</th>\n",
       "    </tr>\n",
       "  </thead>\n",
       "  <tbody>\n",
       "    <tr>\n",
       "      <th>244</th>\n",
       "      <td>2021-04-16</td>\n",
       "      <td>343.000000</td>\n",
       "      <td>345.500000</td>\n",
       "      <td>338.649994</td>\n",
       "      <td>339.899994</td>\n",
       "      <td>339.899994</td>\n",
       "      <td>37766793.0</td>\n",
       "    </tr>\n",
       "    <tr>\n",
       "      <th>245</th>\n",
       "      <td>2021-04-19</td>\n",
       "      <td>327.149994</td>\n",
       "      <td>332.049988</td>\n",
       "      <td>321.299988</td>\n",
       "      <td>331.149994</td>\n",
       "      <td>331.149994</td>\n",
       "      <td>53304377.0</td>\n",
       "    </tr>\n",
       "    <tr>\n",
       "      <th>246</th>\n",
       "      <td>2021-04-20</td>\n",
       "      <td>335.100006</td>\n",
       "      <td>339.899994</td>\n",
       "      <td>326.700012</td>\n",
       "      <td>329.500000</td>\n",
       "      <td>329.500000</td>\n",
       "      <td>41296147.0</td>\n",
       "    </tr>\n",
       "    <tr>\n",
       "      <th>247</th>\n",
       "      <td>2021-04-22</td>\n",
       "      <td>326.000000</td>\n",
       "      <td>337.649994</td>\n",
       "      <td>323.299988</td>\n",
       "      <td>336.649994</td>\n",
       "      <td>336.649994</td>\n",
       "      <td>49105833.0</td>\n",
       "    </tr>\n",
       "    <tr>\n",
       "      <th>248</th>\n",
       "      <td>2021-04-23</td>\n",
       "      <td>331.649994</td>\n",
       "      <td>339.899994</td>\n",
       "      <td>331.649994</td>\n",
       "      <td>336.450012</td>\n",
       "      <td>336.450012</td>\n",
       "      <td>44223940.0</td>\n",
       "    </tr>\n",
       "  </tbody>\n",
       "</table>\n",
       "</div>"
      ],
      "text/plain": [
       "           Date        Open        High         Low       Close   Adj Close  \\\n",
       "244  2021-04-16  343.000000  345.500000  338.649994  339.899994  339.899994   \n",
       "245  2021-04-19  327.149994  332.049988  321.299988  331.149994  331.149994   \n",
       "246  2021-04-20  335.100006  339.899994  326.700012  329.500000  329.500000   \n",
       "247  2021-04-22  326.000000  337.649994  323.299988  336.649994  336.649994   \n",
       "248  2021-04-23  331.649994  339.899994  331.649994  336.450012  336.450012   \n",
       "\n",
       "         Volume  \n",
       "244  37766793.0  \n",
       "245  53304377.0  \n",
       "246  41296147.0  \n",
       "247  49105833.0  \n",
       "248  44223940.0  "
      ]
     },
     "execution_count": 8,
     "metadata": {},
     "output_type": "execute_result"
    }
   ],
   "source": [
    "sbi.tail()"
   ]
  },
  {
   "cell_type": "code",
   "execution_count": 9,
   "metadata": {
    "ExecuteTime": {
     "end_time": "2021-05-01T04:05:39.871805Z",
     "start_time": "2021-05-01T04:05:39.837423Z"
    }
   },
   "outputs": [
    {
     "data": {
      "text/html": [
       "<div>\n",
       "<style scoped>\n",
       "    .dataframe tbody tr th:only-of-type {\n",
       "        vertical-align: middle;\n",
       "    }\n",
       "\n",
       "    .dataframe tbody tr th {\n",
       "        vertical-align: top;\n",
       "    }\n",
       "\n",
       "    .dataframe thead th {\n",
       "        text-align: right;\n",
       "    }\n",
       "</style>\n",
       "<table border=\"1\" class=\"dataframe\">\n",
       "  <thead>\n",
       "    <tr style=\"text-align: right;\">\n",
       "      <th></th>\n",
       "      <th>Date</th>\n",
       "      <th>Open</th>\n",
       "      <th>High</th>\n",
       "      <th>Low</th>\n",
       "      <th>Close</th>\n",
       "      <th>Adj Close</th>\n",
       "      <th>Volume</th>\n",
       "    </tr>\n",
       "  </thead>\n",
       "  <tbody>\n",
       "    <tr>\n",
       "      <th>239</th>\n",
       "      <td>2021-04-08</td>\n",
       "      <td>361.000000</td>\n",
       "      <td>363.299988</td>\n",
       "      <td>354.299988</td>\n",
       "      <td>355.600006</td>\n",
       "      <td>355.600006</td>\n",
       "      <td>33370259.0</td>\n",
       "    </tr>\n",
       "    <tr>\n",
       "      <th>240</th>\n",
       "      <td>2021-04-09</td>\n",
       "      <td>354.399994</td>\n",
       "      <td>364.500000</td>\n",
       "      <td>351.200012</td>\n",
       "      <td>353.000000</td>\n",
       "      <td>353.000000</td>\n",
       "      <td>46473100.0</td>\n",
       "    </tr>\n",
       "    <tr>\n",
       "      <th>241</th>\n",
       "      <td>2021-04-12</td>\n",
       "      <td>344.000000</td>\n",
       "      <td>344.000000</td>\n",
       "      <td>322.549988</td>\n",
       "      <td>328.850006</td>\n",
       "      <td>328.850006</td>\n",
       "      <td>75501713.0</td>\n",
       "    </tr>\n",
       "    <tr>\n",
       "      <th>242</th>\n",
       "      <td>2021-04-13</td>\n",
       "      <td>332.000000</td>\n",
       "      <td>342.250000</td>\n",
       "      <td>330.500000</td>\n",
       "      <td>341.000000</td>\n",
       "      <td>341.000000</td>\n",
       "      <td>49773360.0</td>\n",
       "    </tr>\n",
       "    <tr>\n",
       "      <th>243</th>\n",
       "      <td>2021-04-15</td>\n",
       "      <td>342.100006</td>\n",
       "      <td>347.549988</td>\n",
       "      <td>336.100006</td>\n",
       "      <td>342.700012</td>\n",
       "      <td>342.700012</td>\n",
       "      <td>52992349.0</td>\n",
       "    </tr>\n",
       "    <tr>\n",
       "      <th>244</th>\n",
       "      <td>2021-04-16</td>\n",
       "      <td>343.000000</td>\n",
       "      <td>345.500000</td>\n",
       "      <td>338.649994</td>\n",
       "      <td>339.899994</td>\n",
       "      <td>339.899994</td>\n",
       "      <td>37766793.0</td>\n",
       "    </tr>\n",
       "    <tr>\n",
       "      <th>245</th>\n",
       "      <td>2021-04-19</td>\n",
       "      <td>327.149994</td>\n",
       "      <td>332.049988</td>\n",
       "      <td>321.299988</td>\n",
       "      <td>331.149994</td>\n",
       "      <td>331.149994</td>\n",
       "      <td>53304377.0</td>\n",
       "    </tr>\n",
       "    <tr>\n",
       "      <th>246</th>\n",
       "      <td>2021-04-20</td>\n",
       "      <td>335.100006</td>\n",
       "      <td>339.899994</td>\n",
       "      <td>326.700012</td>\n",
       "      <td>329.500000</td>\n",
       "      <td>329.500000</td>\n",
       "      <td>41296147.0</td>\n",
       "    </tr>\n",
       "    <tr>\n",
       "      <th>247</th>\n",
       "      <td>2021-04-22</td>\n",
       "      <td>326.000000</td>\n",
       "      <td>337.649994</td>\n",
       "      <td>323.299988</td>\n",
       "      <td>336.649994</td>\n",
       "      <td>336.649994</td>\n",
       "      <td>49105833.0</td>\n",
       "    </tr>\n",
       "    <tr>\n",
       "      <th>248</th>\n",
       "      <td>2021-04-23</td>\n",
       "      <td>331.649994</td>\n",
       "      <td>339.899994</td>\n",
       "      <td>331.649994</td>\n",
       "      <td>336.450012</td>\n",
       "      <td>336.450012</td>\n",
       "      <td>44223940.0</td>\n",
       "    </tr>\n",
       "  </tbody>\n",
       "</table>\n",
       "</div>"
      ],
      "text/plain": [
       "           Date        Open        High         Low       Close   Adj Close  \\\n",
       "239  2021-04-08  361.000000  363.299988  354.299988  355.600006  355.600006   \n",
       "240  2021-04-09  354.399994  364.500000  351.200012  353.000000  353.000000   \n",
       "241  2021-04-12  344.000000  344.000000  322.549988  328.850006  328.850006   \n",
       "242  2021-04-13  332.000000  342.250000  330.500000  341.000000  341.000000   \n",
       "243  2021-04-15  342.100006  347.549988  336.100006  342.700012  342.700012   \n",
       "244  2021-04-16  343.000000  345.500000  338.649994  339.899994  339.899994   \n",
       "245  2021-04-19  327.149994  332.049988  321.299988  331.149994  331.149994   \n",
       "246  2021-04-20  335.100006  339.899994  326.700012  329.500000  329.500000   \n",
       "247  2021-04-22  326.000000  337.649994  323.299988  336.649994  336.649994   \n",
       "248  2021-04-23  331.649994  339.899994  331.649994  336.450012  336.450012   \n",
       "\n",
       "         Volume  \n",
       "239  33370259.0  \n",
       "240  46473100.0  \n",
       "241  75501713.0  \n",
       "242  49773360.0  \n",
       "243  52992349.0  \n",
       "244  37766793.0  \n",
       "245  53304377.0  \n",
       "246  41296147.0  \n",
       "247  49105833.0  \n",
       "248  44223940.0  "
      ]
     },
     "execution_count": 9,
     "metadata": {},
     "output_type": "execute_result"
    }
   ],
   "source": [
    "sbi.tail(10)"
   ]
  },
  {
   "cell_type": "code",
   "execution_count": 10,
   "metadata": {
    "ExecuteTime": {
     "end_time": "2021-05-01T04:06:03.955477Z",
     "start_time": "2021-05-01T04:06:03.882849Z"
    }
   },
   "outputs": [
    {
     "data": {
      "text/plain": [
       "Date          object\n",
       "Open         float64\n",
       "High         float64\n",
       "Low          float64\n",
       "Close        float64\n",
       "Adj Close    float64\n",
       "Volume       float64\n",
       "dtype: object"
      ]
     },
     "execution_count": 10,
     "metadata": {},
     "output_type": "execute_result"
    }
   ],
   "source": [
    "sbi.dtypes  #Date is detected as form of string and recognised as an object"
   ]
  },
  {
   "cell_type": "code",
   "execution_count": 11,
   "metadata": {
    "ExecuteTime": {
     "end_time": "2021-05-01T06:03:48.635983Z",
     "start_time": "2021-05-01T06:03:46.080490Z"
    }
   },
   "outputs": [],
   "source": [
    "sbi['Date']= pd.to_datetime(sbi['Date']) #to convert Date column in datetime64 format"
   ]
  },
  {
   "cell_type": "code",
   "execution_count": 12,
   "metadata": {
    "ExecuteTime": {
     "end_time": "2021-05-01T06:03:57.604935Z",
     "start_time": "2021-05-01T06:03:57.043634Z"
    }
   },
   "outputs": [
    {
     "data": {
      "text/plain": [
       "Date         datetime64[ns]\n",
       "Open                float64\n",
       "High                float64\n",
       "Low                 float64\n",
       "Close               float64\n",
       "Adj Close           float64\n",
       "Volume              float64\n",
       "dtype: object"
      ]
     },
     "execution_count": 12,
     "metadata": {},
     "output_type": "execute_result"
    }
   ],
   "source": [
    "sbi.dtypes"
   ]
  },
  {
   "cell_type": "code",
   "execution_count": 13,
   "metadata": {
    "ExecuteTime": {
     "end_time": "2021-05-01T06:15:40.712068Z",
     "start_time": "2021-05-01T06:15:40.598152Z"
    }
   },
   "outputs": [
    {
     "data": {
      "text/plain": [
       "dtype('<M8[ns]')"
      ]
     },
     "execution_count": 13,
     "metadata": {},
     "output_type": "execute_result"
    }
   ],
   "source": [
    "sbi['Date'].dtypes #To check datatype of a particular column (<M8[ns] is shortform of Datetime64[ns])"
   ]
  },
  {
   "cell_type": "code",
   "execution_count": 16,
   "metadata": {
    "ExecuteTime": {
     "end_time": "2021-05-01T06:19:28.551555Z",
     "start_time": "2021-05-01T06:19:28.485081Z"
    }
   },
   "outputs": [],
   "source": [
    "sbi['Name']= 'SBIN' #Creating a column Name and storing SBIN in the entire column"
   ]
  },
  {
   "cell_type": "code",
   "execution_count": 17,
   "metadata": {
    "ExecuteTime": {
     "end_time": "2021-05-01T06:19:33.643656Z",
     "start_time": "2021-05-01T06:19:33.613737Z"
    }
   },
   "outputs": [
    {
     "data": {
      "text/plain": [
       "Date         datetime64[ns]\n",
       "Open                float64\n",
       "High                float64\n",
       "Low                 float64\n",
       "Close               float64\n",
       "Adj Close           float64\n",
       "Volume              float64\n",
       "Name                 object\n",
       "dtype: object"
      ]
     },
     "execution_count": 17,
     "metadata": {},
     "output_type": "execute_result"
    }
   ],
   "source": [
    "sbi.dtypes  #It will store the string value as Object"
   ]
  },
  {
   "cell_type": "code",
   "execution_count": 18,
   "metadata": {
    "ExecuteTime": {
     "end_time": "2021-05-01T06:19:48.546289Z",
     "start_time": "2021-05-01T06:19:47.940670Z"
    }
   },
   "outputs": [
    {
     "data": {
      "text/html": [
       "<div>\n",
       "<style scoped>\n",
       "    .dataframe tbody tr th:only-of-type {\n",
       "        vertical-align: middle;\n",
       "    }\n",
       "\n",
       "    .dataframe tbody tr th {\n",
       "        vertical-align: top;\n",
       "    }\n",
       "\n",
       "    .dataframe thead th {\n",
       "        text-align: right;\n",
       "    }\n",
       "</style>\n",
       "<table border=\"1\" class=\"dataframe\">\n",
       "  <thead>\n",
       "    <tr style=\"text-align: right;\">\n",
       "      <th></th>\n",
       "      <th>Date</th>\n",
       "      <th>Open</th>\n",
       "      <th>High</th>\n",
       "      <th>Low</th>\n",
       "      <th>Close</th>\n",
       "      <th>Adj Close</th>\n",
       "      <th>Volume</th>\n",
       "      <th>Name</th>\n",
       "    </tr>\n",
       "  </thead>\n",
       "  <tbody>\n",
       "    <tr>\n",
       "      <th>0</th>\n",
       "      <td>2020-04-27</td>\n",
       "      <td>183.500000</td>\n",
       "      <td>183.500000</td>\n",
       "      <td>180.500000</td>\n",
       "      <td>180.899994</td>\n",
       "      <td>180.899994</td>\n",
       "      <td>42996571.0</td>\n",
       "      <td>SBIN</td>\n",
       "    </tr>\n",
       "    <tr>\n",
       "      <th>1</th>\n",
       "      <td>2020-04-28</td>\n",
       "      <td>182.000000</td>\n",
       "      <td>185.350006</td>\n",
       "      <td>181.199997</td>\n",
       "      <td>184.300003</td>\n",
       "      <td>184.300003</td>\n",
       "      <td>49590230.0</td>\n",
       "      <td>SBIN</td>\n",
       "    </tr>\n",
       "    <tr>\n",
       "      <th>2</th>\n",
       "      <td>2020-04-29</td>\n",
       "      <td>185.000000</td>\n",
       "      <td>191.800003</td>\n",
       "      <td>183.500000</td>\n",
       "      <td>190.100006</td>\n",
       "      <td>190.100006</td>\n",
       "      <td>57470466.0</td>\n",
       "      <td>SBIN</td>\n",
       "    </tr>\n",
       "    <tr>\n",
       "      <th>3</th>\n",
       "      <td>2020-04-30</td>\n",
       "      <td>193.500000</td>\n",
       "      <td>195.899994</td>\n",
       "      <td>189.699997</td>\n",
       "      <td>190.500000</td>\n",
       "      <td>190.500000</td>\n",
       "      <td>63063889.0</td>\n",
       "      <td>SBIN</td>\n",
       "    </tr>\n",
       "    <tr>\n",
       "      <th>4</th>\n",
       "      <td>2020-05-04</td>\n",
       "      <td>182.449997</td>\n",
       "      <td>183.500000</td>\n",
       "      <td>178.000000</td>\n",
       "      <td>178.850006</td>\n",
       "      <td>178.850006</td>\n",
       "      <td>58118177.0</td>\n",
       "      <td>SBIN</td>\n",
       "    </tr>\n",
       "    <tr>\n",
       "      <th>...</th>\n",
       "      <td>...</td>\n",
       "      <td>...</td>\n",
       "      <td>...</td>\n",
       "      <td>...</td>\n",
       "      <td>...</td>\n",
       "      <td>...</td>\n",
       "      <td>...</td>\n",
       "      <td>...</td>\n",
       "    </tr>\n",
       "    <tr>\n",
       "      <th>244</th>\n",
       "      <td>2021-04-16</td>\n",
       "      <td>343.000000</td>\n",
       "      <td>345.500000</td>\n",
       "      <td>338.649994</td>\n",
       "      <td>339.899994</td>\n",
       "      <td>339.899994</td>\n",
       "      <td>37766793.0</td>\n",
       "      <td>SBIN</td>\n",
       "    </tr>\n",
       "    <tr>\n",
       "      <th>245</th>\n",
       "      <td>2021-04-19</td>\n",
       "      <td>327.149994</td>\n",
       "      <td>332.049988</td>\n",
       "      <td>321.299988</td>\n",
       "      <td>331.149994</td>\n",
       "      <td>331.149994</td>\n",
       "      <td>53304377.0</td>\n",
       "      <td>SBIN</td>\n",
       "    </tr>\n",
       "    <tr>\n",
       "      <th>246</th>\n",
       "      <td>2021-04-20</td>\n",
       "      <td>335.100006</td>\n",
       "      <td>339.899994</td>\n",
       "      <td>326.700012</td>\n",
       "      <td>329.500000</td>\n",
       "      <td>329.500000</td>\n",
       "      <td>41296147.0</td>\n",
       "      <td>SBIN</td>\n",
       "    </tr>\n",
       "    <tr>\n",
       "      <th>247</th>\n",
       "      <td>2021-04-22</td>\n",
       "      <td>326.000000</td>\n",
       "      <td>337.649994</td>\n",
       "      <td>323.299988</td>\n",
       "      <td>336.649994</td>\n",
       "      <td>336.649994</td>\n",
       "      <td>49105833.0</td>\n",
       "      <td>SBIN</td>\n",
       "    </tr>\n",
       "    <tr>\n",
       "      <th>248</th>\n",
       "      <td>2021-04-23</td>\n",
       "      <td>331.649994</td>\n",
       "      <td>339.899994</td>\n",
       "      <td>331.649994</td>\n",
       "      <td>336.450012</td>\n",
       "      <td>336.450012</td>\n",
       "      <td>44223940.0</td>\n",
       "      <td>SBIN</td>\n",
       "    </tr>\n",
       "  </tbody>\n",
       "</table>\n",
       "<p>249 rows × 8 columns</p>\n",
       "</div>"
      ],
      "text/plain": [
       "          Date        Open        High         Low       Close   Adj Close  \\\n",
       "0   2020-04-27  183.500000  183.500000  180.500000  180.899994  180.899994   \n",
       "1   2020-04-28  182.000000  185.350006  181.199997  184.300003  184.300003   \n",
       "2   2020-04-29  185.000000  191.800003  183.500000  190.100006  190.100006   \n",
       "3   2020-04-30  193.500000  195.899994  189.699997  190.500000  190.500000   \n",
       "4   2020-05-04  182.449997  183.500000  178.000000  178.850006  178.850006   \n",
       "..         ...         ...         ...         ...         ...         ...   \n",
       "244 2021-04-16  343.000000  345.500000  338.649994  339.899994  339.899994   \n",
       "245 2021-04-19  327.149994  332.049988  321.299988  331.149994  331.149994   \n",
       "246 2021-04-20  335.100006  339.899994  326.700012  329.500000  329.500000   \n",
       "247 2021-04-22  326.000000  337.649994  323.299988  336.649994  336.649994   \n",
       "248 2021-04-23  331.649994  339.899994  331.649994  336.450012  336.450012   \n",
       "\n",
       "         Volume  Name  \n",
       "0    42996571.0  SBIN  \n",
       "1    49590230.0  SBIN  \n",
       "2    57470466.0  SBIN  \n",
       "3    63063889.0  SBIN  \n",
       "4    58118177.0  SBIN  \n",
       "..          ...   ...  \n",
       "244  37766793.0  SBIN  \n",
       "245  53304377.0  SBIN  \n",
       "246  41296147.0  SBIN  \n",
       "247  49105833.0  SBIN  \n",
       "248  44223940.0  SBIN  \n",
       "\n",
       "[249 rows x 8 columns]"
      ]
     },
     "execution_count": 18,
     "metadata": {},
     "output_type": "execute_result"
    }
   ],
   "source": [
    "sbi"
   ]
  },
  {
   "cell_type": "code",
   "execution_count": 19,
   "metadata": {
    "ExecuteTime": {
     "end_time": "2021-05-01T06:21:35.966156Z",
     "start_time": "2021-05-01T06:21:35.954190Z"
    }
   },
   "outputs": [
    {
     "data": {
      "text/plain": [
       "dtype('O')"
      ]
     },
     "execution_count": 19,
     "metadata": {},
     "output_type": "execute_result"
    }
   ],
   "source": [
    "sbi['Name'].dtypes #to check datatype of column Name which is object and is shown as 'O'"
   ]
  },
  {
   "cell_type": "markdown",
   "metadata": {},
   "source": [
    "# Dataframe Attributes"
   ]
  },
  {
   "cell_type": "code",
   "execution_count": 26,
   "metadata": {
    "ExecuteTime": {
     "end_time": "2021-05-01T06:46:08.886888Z",
     "start_time": "2021-05-01T06:46:08.012300Z"
    }
   },
   "outputs": [],
   "source": [
    "sbi= pd.read_csv(\"C:/Users/Chetana/AnacondaPgm/Data Files/SBIN.NS.csv\") #reading csv file"
   ]
  },
  {
   "cell_type": "code",
   "execution_count": 28,
   "metadata": {
    "ExecuteTime": {
     "end_time": "2021-05-01T06:46:29.452361Z",
     "start_time": "2021-05-01T06:46:29.368128Z"
    }
   },
   "outputs": [
    {
     "data": {
      "text/plain": [
       "[RangeIndex(start=0, stop=249, step=1),\n",
       " Index(['Date', 'Open', 'High', 'Low', 'Close', 'Adj Close', 'Volume'], dtype='object')]"
      ]
     },
     "execution_count": 28,
     "metadata": {},
     "output_type": "execute_result"
    }
   ],
   "source": [
    "sbi.axes #Start index value =0 and end value=249"
   ]
  },
  {
   "cell_type": "code",
   "execution_count": 29,
   "metadata": {
    "ExecuteTime": {
     "end_time": "2021-05-01T06:46:33.006721Z",
     "start_time": "2021-05-01T06:46:32.991099Z"
    }
   },
   "outputs": [
    {
     "data": {
      "text/plain": [
       "Index(['Date', 'Open', 'High', 'Low', 'Close', 'Adj Close', 'Volume'], dtype='object')"
      ]
     },
     "execution_count": 29,
     "metadata": {},
     "output_type": "execute_result"
    }
   ],
   "source": [
    "sbi.columns    # Will display column names"
   ]
  },
  {
   "cell_type": "code",
   "execution_count": 30,
   "metadata": {
    "ExecuteTime": {
     "end_time": "2021-05-01T06:46:38.834658Z",
     "start_time": "2021-05-01T06:46:38.824690Z"
    }
   },
   "outputs": [
    {
     "data": {
      "text/plain": [
       "2"
      ]
     },
     "execution_count": 30,
     "metadata": {},
     "output_type": "execute_result"
    }
   ],
   "source": [
    "sbi.ndim      # Will display the dimnsion of dataframe"
   ]
  },
  {
   "cell_type": "code",
   "execution_count": 31,
   "metadata": {
    "ExecuteTime": {
     "end_time": "2021-05-01T06:46:42.735893Z",
     "start_time": "2021-05-01T06:46:42.595604Z"
    }
   },
   "outputs": [
    {
     "data": {
      "text/plain": [
       "1743"
      ]
     },
     "execution_count": 31,
     "metadata": {},
     "output_type": "execute_result"
    }
   ],
   "source": [
    "sbi.size   # Will display total number of elements in a dataframe"
   ]
  },
  {
   "cell_type": "code",
   "execution_count": 27,
   "metadata": {
    "ExecuteTime": {
     "end_time": "2021-05-01T06:46:19.493298Z",
     "start_time": "2021-05-01T06:46:19.475291Z"
    }
   },
   "outputs": [
    {
     "data": {
      "text/plain": [
       "(249, 7)"
      ]
     },
     "execution_count": 27,
     "metadata": {},
     "output_type": "execute_result"
    }
   ],
   "source": [
    "sbi.shape  # Will display number of rows and columns (row,col)"
   ]
  },
  {
   "cell_type": "code",
   "execution_count": 32,
   "metadata": {
    "ExecuteTime": {
     "end_time": "2021-05-01T06:46:49.769434Z",
     "start_time": "2021-05-01T06:46:49.644926Z"
    }
   },
   "outputs": [
    {
     "data": {
      "text/plain": [
       "array([['2020-04-27', 183.5, 183.5, ..., 180.899994, 180.899994,\n",
       "        42996571.0],\n",
       "       ['2020-04-28', 182.0, 185.350006, ..., 184.300003, 184.300003,\n",
       "        49590230.0],\n",
       "       ['2020-04-29', 185.0, 191.800003, ..., 190.100006, 190.100006,\n",
       "        57470466.0],\n",
       "       ...,\n",
       "       ['2021-04-20', 335.100006, 339.899994, ..., 329.5, 329.5,\n",
       "        41296147.0],\n",
       "       ['2021-04-22', 326.0, 337.649994, ..., 336.649994, 336.649994,\n",
       "        49105833.0],\n",
       "       ['2021-04-23', 331.649994, 339.899994, ..., 336.450012,\n",
       "        336.450012, 44223940.0]], dtype=object)"
      ]
     },
     "execution_count": 32,
     "metadata": {},
     "output_type": "execute_result"
    }
   ],
   "source": [
    "sbi.values  # Will display values in the dataframe in array format"
   ]
  },
  {
   "cell_type": "code",
   "execution_count": 33,
   "metadata": {
    "ExecuteTime": {
     "end_time": "2021-05-01T06:48:29.385221Z",
     "start_time": "2021-05-01T06:48:29.363195Z"
    }
   },
   "outputs": [
    {
     "data": {
      "text/plain": [
       "Date          object\n",
       "Open         float64\n",
       "High         float64\n",
       "Low          float64\n",
       "Close        float64\n",
       "Adj Close    float64\n",
       "Volume       float64\n",
       "dtype: object"
      ]
     },
     "execution_count": 33,
     "metadata": {},
     "output_type": "execute_result"
    }
   ],
   "source": [
    "sbi.dtypes #type of cols in dataframe"
   ]
  },
  {
   "cell_type": "markdown",
   "metadata": {},
   "source": [
    "# Dataframe Methods"
   ]
  },
  {
   "cell_type": "code",
   "execution_count": 34,
   "metadata": {
    "ExecuteTime": {
     "end_time": "2021-05-01T07:07:54.165901Z",
     "start_time": "2021-05-01T07:07:53.864342Z"
    }
   },
   "outputs": [
    {
     "data": {
      "text/html": [
       "<div>\n",
       "<style scoped>\n",
       "    .dataframe tbody tr th:only-of-type {\n",
       "        vertical-align: middle;\n",
       "    }\n",
       "\n",
       "    .dataframe tbody tr th {\n",
       "        vertical-align: top;\n",
       "    }\n",
       "\n",
       "    .dataframe thead th {\n",
       "        text-align: right;\n",
       "    }\n",
       "</style>\n",
       "<table border=\"1\" class=\"dataframe\">\n",
       "  <thead>\n",
       "    <tr style=\"text-align: right;\">\n",
       "      <th></th>\n",
       "      <th>Date</th>\n",
       "      <th>Open</th>\n",
       "      <th>High</th>\n",
       "      <th>Low</th>\n",
       "      <th>Close</th>\n",
       "      <th>Adj Close</th>\n",
       "      <th>Volume</th>\n",
       "    </tr>\n",
       "  </thead>\n",
       "  <tbody>\n",
       "    <tr>\n",
       "      <th>0</th>\n",
       "      <td>2020-04-27</td>\n",
       "      <td>183.500000</td>\n",
       "      <td>183.500000</td>\n",
       "      <td>180.500000</td>\n",
       "      <td>180.899994</td>\n",
       "      <td>180.899994</td>\n",
       "      <td>42996571.0</td>\n",
       "    </tr>\n",
       "    <tr>\n",
       "      <th>1</th>\n",
       "      <td>2020-04-28</td>\n",
       "      <td>182.000000</td>\n",
       "      <td>185.350006</td>\n",
       "      <td>181.199997</td>\n",
       "      <td>184.300003</td>\n",
       "      <td>184.300003</td>\n",
       "      <td>49590230.0</td>\n",
       "    </tr>\n",
       "    <tr>\n",
       "      <th>2</th>\n",
       "      <td>2020-04-29</td>\n",
       "      <td>185.000000</td>\n",
       "      <td>191.800003</td>\n",
       "      <td>183.500000</td>\n",
       "      <td>190.100006</td>\n",
       "      <td>190.100006</td>\n",
       "      <td>57470466.0</td>\n",
       "    </tr>\n",
       "    <tr>\n",
       "      <th>3</th>\n",
       "      <td>2020-04-30</td>\n",
       "      <td>193.500000</td>\n",
       "      <td>195.899994</td>\n",
       "      <td>189.699997</td>\n",
       "      <td>190.500000</td>\n",
       "      <td>190.500000</td>\n",
       "      <td>63063889.0</td>\n",
       "    </tr>\n",
       "    <tr>\n",
       "      <th>4</th>\n",
       "      <td>2020-05-04</td>\n",
       "      <td>182.449997</td>\n",
       "      <td>183.500000</td>\n",
       "      <td>178.000000</td>\n",
       "      <td>178.850006</td>\n",
       "      <td>178.850006</td>\n",
       "      <td>58118177.0</td>\n",
       "    </tr>\n",
       "    <tr>\n",
       "      <th>5</th>\n",
       "      <td>2020-05-05</td>\n",
       "      <td>181.000000</td>\n",
       "      <td>181.250000</td>\n",
       "      <td>168.800003</td>\n",
       "      <td>170.399994</td>\n",
       "      <td>170.399994</td>\n",
       "      <td>91050439.0</td>\n",
       "    </tr>\n",
       "    <tr>\n",
       "      <th>6</th>\n",
       "      <td>2020-05-06</td>\n",
       "      <td>171.149994</td>\n",
       "      <td>173.300003</td>\n",
       "      <td>166.550003</td>\n",
       "      <td>171.100006</td>\n",
       "      <td>171.100006</td>\n",
       "      <td>73156432.0</td>\n",
       "    </tr>\n",
       "    <tr>\n",
       "      <th>7</th>\n",
       "      <td>2020-05-07</td>\n",
       "      <td>170.850006</td>\n",
       "      <td>172.550003</td>\n",
       "      <td>168.800003</td>\n",
       "      <td>170.750000</td>\n",
       "      <td>170.750000</td>\n",
       "      <td>42942399.0</td>\n",
       "    </tr>\n",
       "    <tr>\n",
       "      <th>8</th>\n",
       "      <td>2020-05-08</td>\n",
       "      <td>172.449997</td>\n",
       "      <td>173.800003</td>\n",
       "      <td>166.100006</td>\n",
       "      <td>166.649994</td>\n",
       "      <td>166.649994</td>\n",
       "      <td>55932236.0</td>\n",
       "    </tr>\n",
       "    <tr>\n",
       "      <th>9</th>\n",
       "      <td>2020-05-11</td>\n",
       "      <td>167.949997</td>\n",
       "      <td>168.899994</td>\n",
       "      <td>165.000000</td>\n",
       "      <td>165.449997</td>\n",
       "      <td>165.449997</td>\n",
       "      <td>54591827.0</td>\n",
       "    </tr>\n",
       "  </tbody>\n",
       "</table>\n",
       "</div>"
      ],
      "text/plain": [
       "         Date        Open        High         Low       Close   Adj Close  \\\n",
       "0  2020-04-27  183.500000  183.500000  180.500000  180.899994  180.899994   \n",
       "1  2020-04-28  182.000000  185.350006  181.199997  184.300003  184.300003   \n",
       "2  2020-04-29  185.000000  191.800003  183.500000  190.100006  190.100006   \n",
       "3  2020-04-30  193.500000  195.899994  189.699997  190.500000  190.500000   \n",
       "4  2020-05-04  182.449997  183.500000  178.000000  178.850006  178.850006   \n",
       "5  2020-05-05  181.000000  181.250000  168.800003  170.399994  170.399994   \n",
       "6  2020-05-06  171.149994  173.300003  166.550003  171.100006  171.100006   \n",
       "7  2020-05-07  170.850006  172.550003  168.800003  170.750000  170.750000   \n",
       "8  2020-05-08  172.449997  173.800003  166.100006  166.649994  166.649994   \n",
       "9  2020-05-11  167.949997  168.899994  165.000000  165.449997  165.449997   \n",
       "\n",
       "       Volume  \n",
       "0  42996571.0  \n",
       "1  49590230.0  \n",
       "2  57470466.0  \n",
       "3  63063889.0  \n",
       "4  58118177.0  \n",
       "5  91050439.0  \n",
       "6  73156432.0  \n",
       "7  42942399.0  \n",
       "8  55932236.0  \n",
       "9  54591827.0  "
      ]
     },
     "execution_count": 34,
     "metadata": {},
     "output_type": "execute_result"
    }
   ],
   "source": [
    "sbi.head(10) # Will return first 10 rows"
   ]
  },
  {
   "cell_type": "code",
   "execution_count": 35,
   "metadata": {
    "ExecuteTime": {
     "end_time": "2021-05-01T07:09:20.229767Z",
     "start_time": "2021-05-01T07:09:20.036285Z"
    }
   },
   "outputs": [
    {
     "data": {
      "text/html": [
       "<div>\n",
       "<style scoped>\n",
       "    .dataframe tbody tr th:only-of-type {\n",
       "        vertical-align: middle;\n",
       "    }\n",
       "\n",
       "    .dataframe tbody tr th {\n",
       "        vertical-align: top;\n",
       "    }\n",
       "\n",
       "    .dataframe thead th {\n",
       "        text-align: right;\n",
       "    }\n",
       "</style>\n",
       "<table border=\"1\" class=\"dataframe\">\n",
       "  <thead>\n",
       "    <tr style=\"text-align: right;\">\n",
       "      <th></th>\n",
       "      <th>Date</th>\n",
       "      <th>Open</th>\n",
       "      <th>High</th>\n",
       "      <th>Low</th>\n",
       "      <th>Close</th>\n",
       "      <th>Adj Close</th>\n",
       "      <th>Volume</th>\n",
       "    </tr>\n",
       "  </thead>\n",
       "  <tbody>\n",
       "    <tr>\n",
       "      <th>239</th>\n",
       "      <td>2021-04-08</td>\n",
       "      <td>361.000000</td>\n",
       "      <td>363.299988</td>\n",
       "      <td>354.299988</td>\n",
       "      <td>355.600006</td>\n",
       "      <td>355.600006</td>\n",
       "      <td>33370259.0</td>\n",
       "    </tr>\n",
       "    <tr>\n",
       "      <th>240</th>\n",
       "      <td>2021-04-09</td>\n",
       "      <td>354.399994</td>\n",
       "      <td>364.500000</td>\n",
       "      <td>351.200012</td>\n",
       "      <td>353.000000</td>\n",
       "      <td>353.000000</td>\n",
       "      <td>46473100.0</td>\n",
       "    </tr>\n",
       "    <tr>\n",
       "      <th>241</th>\n",
       "      <td>2021-04-12</td>\n",
       "      <td>344.000000</td>\n",
       "      <td>344.000000</td>\n",
       "      <td>322.549988</td>\n",
       "      <td>328.850006</td>\n",
       "      <td>328.850006</td>\n",
       "      <td>75501713.0</td>\n",
       "    </tr>\n",
       "    <tr>\n",
       "      <th>242</th>\n",
       "      <td>2021-04-13</td>\n",
       "      <td>332.000000</td>\n",
       "      <td>342.250000</td>\n",
       "      <td>330.500000</td>\n",
       "      <td>341.000000</td>\n",
       "      <td>341.000000</td>\n",
       "      <td>49773360.0</td>\n",
       "    </tr>\n",
       "    <tr>\n",
       "      <th>243</th>\n",
       "      <td>2021-04-15</td>\n",
       "      <td>342.100006</td>\n",
       "      <td>347.549988</td>\n",
       "      <td>336.100006</td>\n",
       "      <td>342.700012</td>\n",
       "      <td>342.700012</td>\n",
       "      <td>52992349.0</td>\n",
       "    </tr>\n",
       "    <tr>\n",
       "      <th>244</th>\n",
       "      <td>2021-04-16</td>\n",
       "      <td>343.000000</td>\n",
       "      <td>345.500000</td>\n",
       "      <td>338.649994</td>\n",
       "      <td>339.899994</td>\n",
       "      <td>339.899994</td>\n",
       "      <td>37766793.0</td>\n",
       "    </tr>\n",
       "    <tr>\n",
       "      <th>245</th>\n",
       "      <td>2021-04-19</td>\n",
       "      <td>327.149994</td>\n",
       "      <td>332.049988</td>\n",
       "      <td>321.299988</td>\n",
       "      <td>331.149994</td>\n",
       "      <td>331.149994</td>\n",
       "      <td>53304377.0</td>\n",
       "    </tr>\n",
       "    <tr>\n",
       "      <th>246</th>\n",
       "      <td>2021-04-20</td>\n",
       "      <td>335.100006</td>\n",
       "      <td>339.899994</td>\n",
       "      <td>326.700012</td>\n",
       "      <td>329.500000</td>\n",
       "      <td>329.500000</td>\n",
       "      <td>41296147.0</td>\n",
       "    </tr>\n",
       "    <tr>\n",
       "      <th>247</th>\n",
       "      <td>2021-04-22</td>\n",
       "      <td>326.000000</td>\n",
       "      <td>337.649994</td>\n",
       "      <td>323.299988</td>\n",
       "      <td>336.649994</td>\n",
       "      <td>336.649994</td>\n",
       "      <td>49105833.0</td>\n",
       "    </tr>\n",
       "    <tr>\n",
       "      <th>248</th>\n",
       "      <td>2021-04-23</td>\n",
       "      <td>331.649994</td>\n",
       "      <td>339.899994</td>\n",
       "      <td>331.649994</td>\n",
       "      <td>336.450012</td>\n",
       "      <td>336.450012</td>\n",
       "      <td>44223940.0</td>\n",
       "    </tr>\n",
       "  </tbody>\n",
       "</table>\n",
       "</div>"
      ],
      "text/plain": [
       "           Date        Open        High         Low       Close   Adj Close  \\\n",
       "239  2021-04-08  361.000000  363.299988  354.299988  355.600006  355.600006   \n",
       "240  2021-04-09  354.399994  364.500000  351.200012  353.000000  353.000000   \n",
       "241  2021-04-12  344.000000  344.000000  322.549988  328.850006  328.850006   \n",
       "242  2021-04-13  332.000000  342.250000  330.500000  341.000000  341.000000   \n",
       "243  2021-04-15  342.100006  347.549988  336.100006  342.700012  342.700012   \n",
       "244  2021-04-16  343.000000  345.500000  338.649994  339.899994  339.899994   \n",
       "245  2021-04-19  327.149994  332.049988  321.299988  331.149994  331.149994   \n",
       "246  2021-04-20  335.100006  339.899994  326.700012  329.500000  329.500000   \n",
       "247  2021-04-22  326.000000  337.649994  323.299988  336.649994  336.649994   \n",
       "248  2021-04-23  331.649994  339.899994  331.649994  336.450012  336.450012   \n",
       "\n",
       "         Volume  \n",
       "239  33370259.0  \n",
       "240  46473100.0  \n",
       "241  75501713.0  \n",
       "242  49773360.0  \n",
       "243  52992349.0  \n",
       "244  37766793.0  \n",
       "245  53304377.0  \n",
       "246  41296147.0  \n",
       "247  49105833.0  \n",
       "248  44223940.0  "
      ]
     },
     "execution_count": 35,
     "metadata": {},
     "output_type": "execute_result"
    }
   ],
   "source": [
    "sbi.tail(10) #Will return last 10 rows"
   ]
  },
  {
   "cell_type": "code",
   "execution_count": 37,
   "metadata": {
    "ExecuteTime": {
     "end_time": "2021-05-01T07:09:59.331003Z",
     "start_time": "2021-05-01T07:09:57.690047Z"
    }
   },
   "outputs": [
    {
     "data": {
      "text/html": [
       "<div>\n",
       "<style scoped>\n",
       "    .dataframe tbody tr th:only-of-type {\n",
       "        vertical-align: middle;\n",
       "    }\n",
       "\n",
       "    .dataframe tbody tr th {\n",
       "        vertical-align: top;\n",
       "    }\n",
       "\n",
       "    .dataframe thead th {\n",
       "        text-align: right;\n",
       "    }\n",
       "</style>\n",
       "<table border=\"1\" class=\"dataframe\">\n",
       "  <thead>\n",
       "    <tr style=\"text-align: right;\">\n",
       "      <th></th>\n",
       "      <th>Open</th>\n",
       "      <th>High</th>\n",
       "      <th>Low</th>\n",
       "      <th>Close</th>\n",
       "      <th>Adj Close</th>\n",
       "      <th>Volume</th>\n",
       "    </tr>\n",
       "  </thead>\n",
       "  <tbody>\n",
       "    <tr>\n",
       "      <th>count</th>\n",
       "      <td>248.000000</td>\n",
       "      <td>248.000000</td>\n",
       "      <td>248.000000</td>\n",
       "      <td>248.000000</td>\n",
       "      <td>248.000000</td>\n",
       "      <td>2.480000e+02</td>\n",
       "    </tr>\n",
       "    <tr>\n",
       "      <th>mean</th>\n",
       "      <td>247.470766</td>\n",
       "      <td>251.548589</td>\n",
       "      <td>243.050202</td>\n",
       "      <td>247.221170</td>\n",
       "      <td>247.221170</td>\n",
       "      <td>5.908361e+07</td>\n",
       "    </tr>\n",
       "    <tr>\n",
       "      <th>std</th>\n",
       "      <td>76.687547</td>\n",
       "      <td>77.838486</td>\n",
       "      <td>75.285928</td>\n",
       "      <td>76.498447</td>\n",
       "      <td>76.498447</td>\n",
       "      <td>2.803160e+07</td>\n",
       "    </tr>\n",
       "    <tr>\n",
       "      <th>min</th>\n",
       "      <td>151.949997</td>\n",
       "      <td>153.199997</td>\n",
       "      <td>149.449997</td>\n",
       "      <td>150.850006</td>\n",
       "      <td>150.850006</td>\n",
       "      <td>2.267740e+07</td>\n",
       "    </tr>\n",
       "    <tr>\n",
       "      <th>25%</th>\n",
       "      <td>189.350006</td>\n",
       "      <td>192.250004</td>\n",
       "      <td>186.124996</td>\n",
       "      <td>188.737499</td>\n",
       "      <td>188.737499</td>\n",
       "      <td>4.117557e+07</td>\n",
       "    </tr>\n",
       "    <tr>\n",
       "      <th>50%</th>\n",
       "      <td>205.699997</td>\n",
       "      <td>208.474998</td>\n",
       "      <td>202.125000</td>\n",
       "      <td>205.675003</td>\n",
       "      <td>205.675003</td>\n",
       "      <td>5.247001e+07</td>\n",
       "    </tr>\n",
       "    <tr>\n",
       "      <th>75%</th>\n",
       "      <td>291.450004</td>\n",
       "      <td>299.125000</td>\n",
       "      <td>285.650009</td>\n",
       "      <td>292.987503</td>\n",
       "      <td>292.987503</td>\n",
       "      <td>7.002243e+07</td>\n",
       "    </tr>\n",
       "    <tr>\n",
       "      <th>max</th>\n",
       "      <td>425.049988</td>\n",
       "      <td>427.700012</td>\n",
       "      <td>413.700012</td>\n",
       "      <td>415.200012</td>\n",
       "      <td>415.200012</td>\n",
       "      <td>2.149557e+08</td>\n",
       "    </tr>\n",
       "  </tbody>\n",
       "</table>\n",
       "</div>"
      ],
      "text/plain": [
       "             Open        High         Low       Close   Adj Close  \\\n",
       "count  248.000000  248.000000  248.000000  248.000000  248.000000   \n",
       "mean   247.470766  251.548589  243.050202  247.221170  247.221170   \n",
       "std     76.687547   77.838486   75.285928   76.498447   76.498447   \n",
       "min    151.949997  153.199997  149.449997  150.850006  150.850006   \n",
       "25%    189.350006  192.250004  186.124996  188.737499  188.737499   \n",
       "50%    205.699997  208.474998  202.125000  205.675003  205.675003   \n",
       "75%    291.450004  299.125000  285.650009  292.987503  292.987503   \n",
       "max    425.049988  427.700012  413.700012  415.200012  415.200012   \n",
       "\n",
       "             Volume  \n",
       "count  2.480000e+02  \n",
       "mean   5.908361e+07  \n",
       "std    2.803160e+07  \n",
       "min    2.267740e+07  \n",
       "25%    4.117557e+07  \n",
       "50%    5.247001e+07  \n",
       "75%    7.002243e+07  \n",
       "max    2.149557e+08  "
      ]
     },
     "execution_count": 37,
     "metadata": {},
     "output_type": "execute_result"
    }
   ],
   "source": [
    "sbi.describe()  #Generate descriptive statistics"
   ]
  },
  {
   "cell_type": "code",
   "execution_count": 38,
   "metadata": {
    "ExecuteTime": {
     "end_time": "2021-05-01T07:20:14.320561Z",
     "start_time": "2021-05-01T07:20:13.249267Z"
    }
   },
   "outputs": [
    {
     "data": {
      "text/plain": [
       "Date          2021-04-23\n",
       "Open              425.05\n",
       "High               427.7\n",
       "Low                413.7\n",
       "Close              415.2\n",
       "Adj Close          415.2\n",
       "Volume       2.14956e+08\n",
       "dtype: object"
      ]
     },
     "execution_count": 38,
     "metadata": {},
     "output_type": "execute_result"
    }
   ],
   "source": [
    "sbi.max() #Returns max value of each column"
   ]
  },
  {
   "cell_type": "code",
   "execution_count": 39,
   "metadata": {
    "ExecuteTime": {
     "end_time": "2021-05-01T07:20:42.727785Z",
     "start_time": "2021-05-01T07:20:42.690848Z"
    }
   },
   "outputs": [
    {
     "data": {
      "text/plain": [
       "Date          2020-04-27\n",
       "Open              151.95\n",
       "High               153.2\n",
       "Low               149.45\n",
       "Close             150.85\n",
       "Adj Close         150.85\n",
       "Volume       2.26774e+07\n",
       "dtype: object"
      ]
     },
     "execution_count": 39,
     "metadata": {},
     "output_type": "execute_result"
    }
   ],
   "source": [
    "sbi.min() #Returns min value of each column"
   ]
  },
  {
   "cell_type": "code",
   "execution_count": 41,
   "metadata": {
    "ExecuteTime": {
     "end_time": "2021-05-01T07:21:50.638718Z",
     "start_time": "2021-05-01T07:21:50.283002Z"
    }
   },
   "outputs": [
    {
     "data": {
      "text/html": [
       "<div>\n",
       "<style scoped>\n",
       "    .dataframe tbody tr th:only-of-type {\n",
       "        vertical-align: middle;\n",
       "    }\n",
       "\n",
       "    .dataframe tbody tr th {\n",
       "        vertical-align: top;\n",
       "    }\n",
       "\n",
       "    .dataframe thead th {\n",
       "        text-align: right;\n",
       "    }\n",
       "</style>\n",
       "<table border=\"1\" class=\"dataframe\">\n",
       "  <thead>\n",
       "    <tr style=\"text-align: right;\">\n",
       "      <th></th>\n",
       "      <th>Date</th>\n",
       "      <th>Open</th>\n",
       "      <th>High</th>\n",
       "      <th>Low</th>\n",
       "      <th>Close</th>\n",
       "      <th>Adj Close</th>\n",
       "      <th>Volume</th>\n",
       "    </tr>\n",
       "  </thead>\n",
       "  <tbody>\n",
       "    <tr>\n",
       "      <th>101</th>\n",
       "      <td>2020-09-17</td>\n",
       "      <td>197.000000</td>\n",
       "      <td>198.000000</td>\n",
       "      <td>195.000000</td>\n",
       "      <td>195.449997</td>\n",
       "      <td>195.449997</td>\n",
       "      <td>41223296.0</td>\n",
       "    </tr>\n",
       "    <tr>\n",
       "      <th>155</th>\n",
       "      <td>2020-12-04</td>\n",
       "      <td>257.000000</td>\n",
       "      <td>264.350006</td>\n",
       "      <td>253.550003</td>\n",
       "      <td>263.500000</td>\n",
       "      <td>263.500000</td>\n",
       "      <td>79252024.0</td>\n",
       "    </tr>\n",
       "    <tr>\n",
       "      <th>44</th>\n",
       "      <td>2020-06-30</td>\n",
       "      <td>181.100006</td>\n",
       "      <td>182.899994</td>\n",
       "      <td>177.250000</td>\n",
       "      <td>178.449997</td>\n",
       "      <td>178.449997</td>\n",
       "      <td>43613239.0</td>\n",
       "    </tr>\n",
       "    <tr>\n",
       "      <th>196</th>\n",
       "      <td>2021-02-03</td>\n",
       "      <td>333.750000</td>\n",
       "      <td>339.899994</td>\n",
       "      <td>325.799988</td>\n",
       "      <td>335.950012</td>\n",
       "      <td>335.950012</td>\n",
       "      <td>66420168.0</td>\n",
       "    </tr>\n",
       "    <tr>\n",
       "      <th>203</th>\n",
       "      <td>2021-02-12</td>\n",
       "      <td>391.000000</td>\n",
       "      <td>399.350006</td>\n",
       "      <td>385.549988</td>\n",
       "      <td>393.149994</td>\n",
       "      <td>393.149994</td>\n",
       "      <td>53589755.0</td>\n",
       "    </tr>\n",
       "  </tbody>\n",
       "</table>\n",
       "</div>"
      ],
      "text/plain": [
       "           Date        Open        High         Low       Close   Adj Close  \\\n",
       "101  2020-09-17  197.000000  198.000000  195.000000  195.449997  195.449997   \n",
       "155  2020-12-04  257.000000  264.350006  253.550003  263.500000  263.500000   \n",
       "44   2020-06-30  181.100006  182.899994  177.250000  178.449997  178.449997   \n",
       "196  2021-02-03  333.750000  339.899994  325.799988  335.950012  335.950012   \n",
       "203  2021-02-12  391.000000  399.350006  385.549988  393.149994  393.149994   \n",
       "\n",
       "         Volume  \n",
       "101  41223296.0  \n",
       "155  79252024.0  \n",
       "44   43613239.0  \n",
       "196  66420168.0  \n",
       "203  53589755.0  "
      ]
     },
     "execution_count": 41,
     "metadata": {},
     "output_type": "execute_result"
    }
   ],
   "source": [
    "sbi.sample(5) #Returns a random sample of dataframe in this case any 5 rows from the dataframe"
   ]
  },
  {
   "cell_type": "code",
   "execution_count": 44,
   "metadata": {
    "ExecuteTime": {
     "end_time": "2021-05-01T07:23:59.198808Z",
     "start_time": "2021-05-01T07:23:59.153927Z"
    }
   },
   "outputs": [
    {
     "data": {
      "text/html": [
       "<div>\n",
       "<style scoped>\n",
       "    .dataframe tbody tr th:only-of-type {\n",
       "        vertical-align: middle;\n",
       "    }\n",
       "\n",
       "    .dataframe tbody tr th {\n",
       "        vertical-align: top;\n",
       "    }\n",
       "\n",
       "    .dataframe thead th {\n",
       "        text-align: right;\n",
       "    }\n",
       "</style>\n",
       "<table border=\"1\" class=\"dataframe\">\n",
       "  <thead>\n",
       "    <tr style=\"text-align: right;\">\n",
       "      <th></th>\n",
       "      <th>Date</th>\n",
       "      <th>Open</th>\n",
       "      <th>High</th>\n",
       "      <th>Low</th>\n",
       "      <th>Close</th>\n",
       "      <th>Adj Close</th>\n",
       "      <th>Volume</th>\n",
       "    </tr>\n",
       "  </thead>\n",
       "  <tbody>\n",
       "    <tr>\n",
       "      <th>232</th>\n",
       "      <td>2021-03-26</td>\n",
       "      <td>360.0</td>\n",
       "      <td>362.0</td>\n",
       "      <td>354.549988</td>\n",
       "      <td>357.200012</td>\n",
       "      <td>357.200012</td>\n",
       "      <td>40718848.0</td>\n",
       "    </tr>\n",
       "  </tbody>\n",
       "</table>\n",
       "</div>"
      ],
      "text/plain": [
       "           Date   Open   High         Low       Close   Adj Close      Volume\n",
       "232  2021-03-26  360.0  362.0  354.549988  357.200012  357.200012  40718848.0"
      ]
     },
     "execution_count": 44,
     "metadata": {},
     "output_type": "execute_result"
    }
   ],
   "source": [
    "sbi.sample() #Returns a random row from dataframe"
   ]
  },
  {
   "cell_type": "code",
   "execution_count": 45,
   "metadata": {
    "ExecuteTime": {
     "end_time": "2021-05-01T07:24:45.782498Z",
     "start_time": "2021-05-01T07:24:45.281999Z"
    }
   },
   "outputs": [
    {
     "data": {
      "text/plain": [
       "Open         2.474708e+02\n",
       "High         2.515486e+02\n",
       "Low          2.430502e+02\n",
       "Close        2.472212e+02\n",
       "Adj Close    2.472212e+02\n",
       "Volume       5.908361e+07\n",
       "dtype: float64"
      ]
     },
     "execution_count": 45,
     "metadata": {},
     "output_type": "execute_result"
    }
   ],
   "source": [
    "sbi.mean()  # Returns mean of dataframe"
   ]
  },
  {
   "cell_type": "code",
   "execution_count": 46,
   "metadata": {
    "ExecuteTime": {
     "end_time": "2021-05-01T07:25:59.878879Z",
     "start_time": "2021-05-01T07:25:59.833000Z"
    }
   },
   "outputs": [
    {
     "data": {
      "text/plain": [
       "Open         2.057000e+02\n",
       "High         2.084750e+02\n",
       "Low          2.021250e+02\n",
       "Close        2.056750e+02\n",
       "Adj Close    2.056750e+02\n",
       "Volume       5.247001e+07\n",
       "dtype: float64"
      ]
     },
     "execution_count": 46,
     "metadata": {},
     "output_type": "execute_result"
    }
   ],
   "source": [
    "sbi.median() # Returns median of dataframe"
   ]
  },
  {
   "cell_type": "code",
   "execution_count": 47,
   "metadata": {
    "ExecuteTime": {
     "end_time": "2021-05-01T07:26:26.796585Z",
     "start_time": "2021-05-01T07:26:26.711810Z"
    }
   },
   "outputs": [
    {
     "data": {
      "text/plain": [
       "Open         7.668755e+01\n",
       "High         7.783849e+01\n",
       "Low          7.528593e+01\n",
       "Close        7.649845e+01\n",
       "Adj Close    7.649845e+01\n",
       "Volume       2.803160e+07\n",
       "dtype: float64"
      ]
     },
     "execution_count": 47,
     "metadata": {},
     "output_type": "execute_result"
    }
   ],
   "source": [
    "sbi.std() #Returns standard deviations of each column"
   ]
  },
  {
   "cell_type": "code",
   "execution_count": 48,
   "metadata": {
    "ExecuteTime": {
     "end_time": "2021-05-01T07:26:42.538523Z",
     "start_time": "2021-05-01T07:26:40.310347Z"
    }
   },
   "outputs": [
    {
     "data": {
      "text/html": [
       "<div>\n",
       "<style scoped>\n",
       "    .dataframe tbody tr th:only-of-type {\n",
       "        vertical-align: middle;\n",
       "    }\n",
       "\n",
       "    .dataframe tbody tr th {\n",
       "        vertical-align: top;\n",
       "    }\n",
       "\n",
       "    .dataframe thead th {\n",
       "        text-align: right;\n",
       "    }\n",
       "</style>\n",
       "<table border=\"1\" class=\"dataframe\">\n",
       "  <thead>\n",
       "    <tr style=\"text-align: right;\">\n",
       "      <th></th>\n",
       "      <th>Date</th>\n",
       "      <th>Open</th>\n",
       "      <th>High</th>\n",
       "      <th>Low</th>\n",
       "      <th>Close</th>\n",
       "      <th>Adj Close</th>\n",
       "      <th>Volume</th>\n",
       "    </tr>\n",
       "  </thead>\n",
       "  <tbody>\n",
       "    <tr>\n",
       "      <th>0</th>\n",
       "      <td>2020-04-27</td>\n",
       "      <td>183.500000</td>\n",
       "      <td>183.500000</td>\n",
       "      <td>180.500000</td>\n",
       "      <td>180.899994</td>\n",
       "      <td>180.899994</td>\n",
       "      <td>42996571.0</td>\n",
       "    </tr>\n",
       "    <tr>\n",
       "      <th>1</th>\n",
       "      <td>2020-04-28</td>\n",
       "      <td>182.000000</td>\n",
       "      <td>185.350006</td>\n",
       "      <td>181.199997</td>\n",
       "      <td>184.300003</td>\n",
       "      <td>184.300003</td>\n",
       "      <td>49590230.0</td>\n",
       "    </tr>\n",
       "    <tr>\n",
       "      <th>2</th>\n",
       "      <td>2020-04-29</td>\n",
       "      <td>185.000000</td>\n",
       "      <td>191.800003</td>\n",
       "      <td>183.500000</td>\n",
       "      <td>190.100006</td>\n",
       "      <td>190.100006</td>\n",
       "      <td>57470466.0</td>\n",
       "    </tr>\n",
       "    <tr>\n",
       "      <th>3</th>\n",
       "      <td>2020-04-30</td>\n",
       "      <td>193.500000</td>\n",
       "      <td>195.899994</td>\n",
       "      <td>189.699997</td>\n",
       "      <td>190.500000</td>\n",
       "      <td>190.500000</td>\n",
       "      <td>63063889.0</td>\n",
       "    </tr>\n",
       "    <tr>\n",
       "      <th>4</th>\n",
       "      <td>2020-05-04</td>\n",
       "      <td>182.449997</td>\n",
       "      <td>183.500000</td>\n",
       "      <td>178.000000</td>\n",
       "      <td>178.850006</td>\n",
       "      <td>178.850006</td>\n",
       "      <td>58118177.0</td>\n",
       "    </tr>\n",
       "    <tr>\n",
       "      <th>...</th>\n",
       "      <td>...</td>\n",
       "      <td>...</td>\n",
       "      <td>...</td>\n",
       "      <td>...</td>\n",
       "      <td>...</td>\n",
       "      <td>...</td>\n",
       "      <td>...</td>\n",
       "    </tr>\n",
       "    <tr>\n",
       "      <th>244</th>\n",
       "      <td>2021-04-16</td>\n",
       "      <td>343.000000</td>\n",
       "      <td>345.500000</td>\n",
       "      <td>338.649994</td>\n",
       "      <td>339.899994</td>\n",
       "      <td>339.899994</td>\n",
       "      <td>37766793.0</td>\n",
       "    </tr>\n",
       "    <tr>\n",
       "      <th>245</th>\n",
       "      <td>2021-04-19</td>\n",
       "      <td>327.149994</td>\n",
       "      <td>332.049988</td>\n",
       "      <td>321.299988</td>\n",
       "      <td>331.149994</td>\n",
       "      <td>331.149994</td>\n",
       "      <td>53304377.0</td>\n",
       "    </tr>\n",
       "    <tr>\n",
       "      <th>246</th>\n",
       "      <td>2021-04-20</td>\n",
       "      <td>335.100006</td>\n",
       "      <td>339.899994</td>\n",
       "      <td>326.700012</td>\n",
       "      <td>329.500000</td>\n",
       "      <td>329.500000</td>\n",
       "      <td>41296147.0</td>\n",
       "    </tr>\n",
       "    <tr>\n",
       "      <th>247</th>\n",
       "      <td>2021-04-22</td>\n",
       "      <td>326.000000</td>\n",
       "      <td>337.649994</td>\n",
       "      <td>323.299988</td>\n",
       "      <td>336.649994</td>\n",
       "      <td>336.649994</td>\n",
       "      <td>49105833.0</td>\n",
       "    </tr>\n",
       "    <tr>\n",
       "      <th>248</th>\n",
       "      <td>2021-04-23</td>\n",
       "      <td>331.649994</td>\n",
       "      <td>339.899994</td>\n",
       "      <td>331.649994</td>\n",
       "      <td>336.450012</td>\n",
       "      <td>336.450012</td>\n",
       "      <td>44223940.0</td>\n",
       "    </tr>\n",
       "  </tbody>\n",
       "</table>\n",
       "<p>248 rows × 7 columns</p>\n",
       "</div>"
      ],
      "text/plain": [
       "           Date        Open        High         Low       Close   Adj Close  \\\n",
       "0    2020-04-27  183.500000  183.500000  180.500000  180.899994  180.899994   \n",
       "1    2020-04-28  182.000000  185.350006  181.199997  184.300003  184.300003   \n",
       "2    2020-04-29  185.000000  191.800003  183.500000  190.100006  190.100006   \n",
       "3    2020-04-30  193.500000  195.899994  189.699997  190.500000  190.500000   \n",
       "4    2020-05-04  182.449997  183.500000  178.000000  178.850006  178.850006   \n",
       "..          ...         ...         ...         ...         ...         ...   \n",
       "244  2021-04-16  343.000000  345.500000  338.649994  339.899994  339.899994   \n",
       "245  2021-04-19  327.149994  332.049988  321.299988  331.149994  331.149994   \n",
       "246  2021-04-20  335.100006  339.899994  326.700012  329.500000  329.500000   \n",
       "247  2021-04-22  326.000000  337.649994  323.299988  336.649994  336.649994   \n",
       "248  2021-04-23  331.649994  339.899994  331.649994  336.450012  336.450012   \n",
       "\n",
       "         Volume  \n",
       "0    42996571.0  \n",
       "1    49590230.0  \n",
       "2    57470466.0  \n",
       "3    63063889.0  \n",
       "4    58118177.0  \n",
       "..          ...  \n",
       "244  37766793.0  \n",
       "245  53304377.0  \n",
       "246  41296147.0  \n",
       "247  49105833.0  \n",
       "248  44223940.0  \n",
       "\n",
       "[248 rows x 7 columns]"
      ]
     },
     "execution_count": 48,
     "metadata": {},
     "output_type": "execute_result"
    }
   ],
   "source": [
    "sbi.dropna() #Will drop all the records from dataframe with missing values in this case one row is dropped "
   ]
  },
  {
   "cell_type": "code",
   "execution_count": 50,
   "metadata": {
    "ExecuteTime": {
     "end_time": "2021-05-01T07:31:27.173321Z",
     "start_time": "2021-05-01T07:31:27.152410Z"
    }
   },
   "outputs": [
    {
     "data": {
      "text/plain": [
       "Open         1.753530e+02\n",
       "High         1.784690e+02\n",
       "Low          1.717330e+02\n",
       "Close        1.747610e+02\n",
       "Adj Close    1.747610e+02\n",
       "Volume       7.077281e+07\n",
       "dtype: float64"
      ]
     },
     "execution_count": 50,
     "metadata": {},
     "output_type": "execute_result"
    }
   ],
   "source": [
    "sbi.head(50).mean()   # Mean of first 50 rows of data set"
   ]
  },
  {
   "cell_type": "code",
   "execution_count": 51,
   "metadata": {
    "ExecuteTime": {
     "end_time": "2021-05-01T07:32:18.737807Z",
     "start_time": "2021-05-01T07:32:18.654033Z"
    }
   },
   "outputs": [
    {
     "data": {
      "text/plain": [
       "Open         3.767830e+02\n",
       "High         3.817720e+02\n",
       "Low          3.694750e+02\n",
       "Close        3.749090e+02\n",
       "Adj Close    3.749090e+02\n",
       "Volume       4.779731e+07\n",
       "dtype: float64"
      ]
     },
     "execution_count": 51,
     "metadata": {},
     "output_type": "execute_result"
    }
   ],
   "source": [
    "sbi.tail(50).mean() # Mean of last 50 records of dataset"
   ]
  },
  {
   "cell_type": "code",
   "execution_count": 52,
   "metadata": {
    "ExecuteTime": {
     "end_time": "2021-05-01T07:32:40.573087Z",
     "start_time": "2021-05-01T07:32:40.447426Z"
    }
   },
   "outputs": [
    {
     "data": {
      "text/plain": [
       "247.47076631048387"
      ]
     },
     "execution_count": 52,
     "metadata": {},
     "output_type": "execute_result"
    }
   ],
   "source": [
    "sbi['Open'].mean() # Mean of Open column"
   ]
  },
  {
   "cell_type": "code",
   "execution_count": 53,
   "metadata": {
    "ExecuteTime": {
     "end_time": "2021-05-01T07:33:52.629552Z",
     "start_time": "2021-05-01T07:33:52.609606Z"
    }
   },
   "outputs": [
    {
     "data": {
      "text/plain": [
       "376.7830016799999"
      ]
     },
     "execution_count": 53,
     "metadata": {},
     "output_type": "execute_result"
    }
   ],
   "source": [
    "sbi['Open'].tail(50).mean() #Mean of last 50 records of Open column"
   ]
  },
  {
   "cell_type": "markdown",
   "metadata": {},
   "source": [
    "# Sorting Dataframe"
   ]
  },
  {
   "cell_type": "code",
   "execution_count": 54,
   "metadata": {
    "ExecuteTime": {
     "end_time": "2021-05-01T07:35:22.334082Z",
     "start_time": "2021-05-01T07:35:22.063887Z"
    }
   },
   "outputs": [
    {
     "data": {
      "text/html": [
       "<div>\n",
       "<style scoped>\n",
       "    .dataframe tbody tr th:only-of-type {\n",
       "        vertical-align: middle;\n",
       "    }\n",
       "\n",
       "    .dataframe tbody tr th {\n",
       "        vertical-align: top;\n",
       "    }\n",
       "\n",
       "    .dataframe thead th {\n",
       "        text-align: right;\n",
       "    }\n",
       "</style>\n",
       "<table border=\"1\" class=\"dataframe\">\n",
       "  <thead>\n",
       "    <tr style=\"text-align: right;\">\n",
       "      <th></th>\n",
       "      <th>Date</th>\n",
       "      <th>Open</th>\n",
       "      <th>High</th>\n",
       "      <th>Low</th>\n",
       "      <th>Close</th>\n",
       "      <th>Adj Close</th>\n",
       "      <th>Volume</th>\n",
       "    </tr>\n",
       "  </thead>\n",
       "  <tbody>\n",
       "    <tr>\n",
       "      <th>18</th>\n",
       "      <td>2020-05-22</td>\n",
       "      <td>152.000000</td>\n",
       "      <td>155.600006</td>\n",
       "      <td>149.449997</td>\n",
       "      <td>150.850006</td>\n",
       "      <td>150.850006</td>\n",
       "      <td>87064198.0</td>\n",
       "    </tr>\n",
       "    <tr>\n",
       "      <th>19</th>\n",
       "      <td>2020-05-26</td>\n",
       "      <td>152.399994</td>\n",
       "      <td>153.199997</td>\n",
       "      <td>150.199997</td>\n",
       "      <td>151.399994</td>\n",
       "      <td>151.399994</td>\n",
       "      <td>48275988.0</td>\n",
       "    </tr>\n",
       "    <tr>\n",
       "      <th>17</th>\n",
       "      <td>2020-05-21</td>\n",
       "      <td>153.649994</td>\n",
       "      <td>156.149994</td>\n",
       "      <td>151.500000</td>\n",
       "      <td>151.949997</td>\n",
       "      <td>151.949997</td>\n",
       "      <td>61147471.0</td>\n",
       "    </tr>\n",
       "    <tr>\n",
       "      <th>15</th>\n",
       "      <td>2020-05-19</td>\n",
       "      <td>157.500000</td>\n",
       "      <td>157.850006</td>\n",
       "      <td>152.399994</td>\n",
       "      <td>152.800003</td>\n",
       "      <td>152.800003</td>\n",
       "      <td>71522334.0</td>\n",
       "    </tr>\n",
       "    <tr>\n",
       "      <th>16</th>\n",
       "      <td>2020-05-20</td>\n",
       "      <td>153.000000</td>\n",
       "      <td>155.250000</td>\n",
       "      <td>151.149994</td>\n",
       "      <td>153.399994</td>\n",
       "      <td>153.399994</td>\n",
       "      <td>66168767.0</td>\n",
       "    </tr>\n",
       "    <tr>\n",
       "      <th>...</th>\n",
       "      <td>...</td>\n",
       "      <td>...</td>\n",
       "      <td>...</td>\n",
       "      <td>...</td>\n",
       "      <td>...</td>\n",
       "      <td>...</td>\n",
       "      <td>...</td>\n",
       "    </tr>\n",
       "    <tr>\n",
       "      <th>204</th>\n",
       "      <td>2021-02-15</td>\n",
       "      <td>397.500000</td>\n",
       "      <td>409.450012</td>\n",
       "      <td>395.700012</td>\n",
       "      <td>406.950012</td>\n",
       "      <td>406.950012</td>\n",
       "      <td>56608937.0</td>\n",
       "    </tr>\n",
       "    <tr>\n",
       "      <th>212</th>\n",
       "      <td>2021-02-25</td>\n",
       "      <td>411.000000</td>\n",
       "      <td>414.899994</td>\n",
       "      <td>406.549988</td>\n",
       "      <td>407.250000</td>\n",
       "      <td>407.250000</td>\n",
       "      <td>46988836.0</td>\n",
       "    </tr>\n",
       "    <tr>\n",
       "      <th>206</th>\n",
       "      <td>2021-02-17</td>\n",
       "      <td>403.000000</td>\n",
       "      <td>414.850006</td>\n",
       "      <td>400.149994</td>\n",
       "      <td>411.750000</td>\n",
       "      <td>411.750000</td>\n",
       "      <td>74161370.0</td>\n",
       "    </tr>\n",
       "    <tr>\n",
       "      <th>207</th>\n",
       "      <td>2021-02-18</td>\n",
       "      <td>425.049988</td>\n",
       "      <td>427.700012</td>\n",
       "      <td>413.700012</td>\n",
       "      <td>415.200012</td>\n",
       "      <td>415.200012</td>\n",
       "      <td>67154539.0</td>\n",
       "    </tr>\n",
       "    <tr>\n",
       "      <th>142</th>\n",
       "      <td>2020-11-14</td>\n",
       "      <td>NaN</td>\n",
       "      <td>NaN</td>\n",
       "      <td>NaN</td>\n",
       "      <td>NaN</td>\n",
       "      <td>NaN</td>\n",
       "      <td>NaN</td>\n",
       "    </tr>\n",
       "  </tbody>\n",
       "</table>\n",
       "<p>249 rows × 7 columns</p>\n",
       "</div>"
      ],
      "text/plain": [
       "           Date        Open        High         Low       Close   Adj Close  \\\n",
       "18   2020-05-22  152.000000  155.600006  149.449997  150.850006  150.850006   \n",
       "19   2020-05-26  152.399994  153.199997  150.199997  151.399994  151.399994   \n",
       "17   2020-05-21  153.649994  156.149994  151.500000  151.949997  151.949997   \n",
       "15   2020-05-19  157.500000  157.850006  152.399994  152.800003  152.800003   \n",
       "16   2020-05-20  153.000000  155.250000  151.149994  153.399994  153.399994   \n",
       "..          ...         ...         ...         ...         ...         ...   \n",
       "204  2021-02-15  397.500000  409.450012  395.700012  406.950012  406.950012   \n",
       "212  2021-02-25  411.000000  414.899994  406.549988  407.250000  407.250000   \n",
       "206  2021-02-17  403.000000  414.850006  400.149994  411.750000  411.750000   \n",
       "207  2021-02-18  425.049988  427.700012  413.700012  415.200012  415.200012   \n",
       "142  2020-11-14         NaN         NaN         NaN         NaN         NaN   \n",
       "\n",
       "         Volume  \n",
       "18   87064198.0  \n",
       "19   48275988.0  \n",
       "17   61147471.0  \n",
       "15   71522334.0  \n",
       "16   66168767.0  \n",
       "..          ...  \n",
       "204  56608937.0  \n",
       "212  46988836.0  \n",
       "206  74161370.0  \n",
       "207  67154539.0  \n",
       "142         NaN  \n",
       "\n",
       "[249 rows x 7 columns]"
      ]
     },
     "execution_count": 54,
     "metadata": {},
     "output_type": "execute_result"
    }
   ],
   "source": [
    "sbi.sort_values('Close') #Sorting values of Close column"
   ]
  },
  {
   "cell_type": "code",
   "execution_count": 56,
   "metadata": {
    "ExecuteTime": {
     "end_time": "2021-05-01T07:42:03.715518Z",
     "start_time": "2021-05-01T07:42:03.683600Z"
    }
   },
   "outputs": [
    {
     "data": {
      "text/html": [
       "<div>\n",
       "<style scoped>\n",
       "    .dataframe tbody tr th:only-of-type {\n",
       "        vertical-align: middle;\n",
       "    }\n",
       "\n",
       "    .dataframe tbody tr th {\n",
       "        vertical-align: top;\n",
       "    }\n",
       "\n",
       "    .dataframe thead th {\n",
       "        text-align: right;\n",
       "    }\n",
       "</style>\n",
       "<table border=\"1\" class=\"dataframe\">\n",
       "  <thead>\n",
       "    <tr style=\"text-align: right;\">\n",
       "      <th></th>\n",
       "      <th>Date</th>\n",
       "      <th>Open</th>\n",
       "      <th>High</th>\n",
       "      <th>Low</th>\n",
       "      <th>Close</th>\n",
       "      <th>Adj Close</th>\n",
       "      <th>Volume</th>\n",
       "    </tr>\n",
       "  </thead>\n",
       "  <tbody>\n",
       "    <tr>\n",
       "      <th>207</th>\n",
       "      <td>2021-02-18</td>\n",
       "      <td>425.049988</td>\n",
       "      <td>427.700012</td>\n",
       "      <td>413.700012</td>\n",
       "      <td>415.200012</td>\n",
       "      <td>415.200012</td>\n",
       "      <td>67154539.0</td>\n",
       "    </tr>\n",
       "    <tr>\n",
       "      <th>206</th>\n",
       "      <td>2021-02-17</td>\n",
       "      <td>403.000000</td>\n",
       "      <td>414.850006</td>\n",
       "      <td>400.149994</td>\n",
       "      <td>411.750000</td>\n",
       "      <td>411.750000</td>\n",
       "      <td>74161370.0</td>\n",
       "    </tr>\n",
       "    <tr>\n",
       "      <th>212</th>\n",
       "      <td>2021-02-25</td>\n",
       "      <td>411.000000</td>\n",
       "      <td>414.899994</td>\n",
       "      <td>406.549988</td>\n",
       "      <td>407.250000</td>\n",
       "      <td>407.250000</td>\n",
       "      <td>46988836.0</td>\n",
       "    </tr>\n",
       "    <tr>\n",
       "      <th>204</th>\n",
       "      <td>2021-02-15</td>\n",
       "      <td>397.500000</td>\n",
       "      <td>409.450012</td>\n",
       "      <td>395.700012</td>\n",
       "      <td>406.950012</td>\n",
       "      <td>406.950012</td>\n",
       "      <td>56608937.0</td>\n",
       "    </tr>\n",
       "    <tr>\n",
       "      <th>211</th>\n",
       "      <td>2021-02-24</td>\n",
       "      <td>397.000000</td>\n",
       "      <td>410.500000</td>\n",
       "      <td>395.200012</td>\n",
       "      <td>406.250000</td>\n",
       "      <td>406.250000</td>\n",
       "      <td>39632090.0</td>\n",
       "    </tr>\n",
       "    <tr>\n",
       "      <th>...</th>\n",
       "      <td>...</td>\n",
       "      <td>...</td>\n",
       "      <td>...</td>\n",
       "      <td>...</td>\n",
       "      <td>...</td>\n",
       "      <td>...</td>\n",
       "      <td>...</td>\n",
       "    </tr>\n",
       "    <tr>\n",
       "      <th>15</th>\n",
       "      <td>2020-05-19</td>\n",
       "      <td>157.500000</td>\n",
       "      <td>157.850006</td>\n",
       "      <td>152.399994</td>\n",
       "      <td>152.800003</td>\n",
       "      <td>152.800003</td>\n",
       "      <td>71522334.0</td>\n",
       "    </tr>\n",
       "    <tr>\n",
       "      <th>17</th>\n",
       "      <td>2020-05-21</td>\n",
       "      <td>153.649994</td>\n",
       "      <td>156.149994</td>\n",
       "      <td>151.500000</td>\n",
       "      <td>151.949997</td>\n",
       "      <td>151.949997</td>\n",
       "      <td>61147471.0</td>\n",
       "    </tr>\n",
       "    <tr>\n",
       "      <th>19</th>\n",
       "      <td>2020-05-26</td>\n",
       "      <td>152.399994</td>\n",
       "      <td>153.199997</td>\n",
       "      <td>150.199997</td>\n",
       "      <td>151.399994</td>\n",
       "      <td>151.399994</td>\n",
       "      <td>48275988.0</td>\n",
       "    </tr>\n",
       "    <tr>\n",
       "      <th>18</th>\n",
       "      <td>2020-05-22</td>\n",
       "      <td>152.000000</td>\n",
       "      <td>155.600006</td>\n",
       "      <td>149.449997</td>\n",
       "      <td>150.850006</td>\n",
       "      <td>150.850006</td>\n",
       "      <td>87064198.0</td>\n",
       "    </tr>\n",
       "    <tr>\n",
       "      <th>142</th>\n",
       "      <td>2020-11-14</td>\n",
       "      <td>NaN</td>\n",
       "      <td>NaN</td>\n",
       "      <td>NaN</td>\n",
       "      <td>NaN</td>\n",
       "      <td>NaN</td>\n",
       "      <td>NaN</td>\n",
       "    </tr>\n",
       "  </tbody>\n",
       "</table>\n",
       "<p>249 rows × 7 columns</p>\n",
       "</div>"
      ],
      "text/plain": [
       "           Date        Open        High         Low       Close   Adj Close  \\\n",
       "207  2021-02-18  425.049988  427.700012  413.700012  415.200012  415.200012   \n",
       "206  2021-02-17  403.000000  414.850006  400.149994  411.750000  411.750000   \n",
       "212  2021-02-25  411.000000  414.899994  406.549988  407.250000  407.250000   \n",
       "204  2021-02-15  397.500000  409.450012  395.700012  406.950012  406.950012   \n",
       "211  2021-02-24  397.000000  410.500000  395.200012  406.250000  406.250000   \n",
       "..          ...         ...         ...         ...         ...         ...   \n",
       "15   2020-05-19  157.500000  157.850006  152.399994  152.800003  152.800003   \n",
       "17   2020-05-21  153.649994  156.149994  151.500000  151.949997  151.949997   \n",
       "19   2020-05-26  152.399994  153.199997  150.199997  151.399994  151.399994   \n",
       "18   2020-05-22  152.000000  155.600006  149.449997  150.850006  150.850006   \n",
       "142  2020-11-14         NaN         NaN         NaN         NaN         NaN   \n",
       "\n",
       "         Volume  \n",
       "207  67154539.0  \n",
       "206  74161370.0  \n",
       "212  46988836.0  \n",
       "204  56608937.0  \n",
       "211  39632090.0  \n",
       "..          ...  \n",
       "15   71522334.0  \n",
       "17   61147471.0  \n",
       "19   48275988.0  \n",
       "18   87064198.0  \n",
       "142         NaN  \n",
       "\n",
       "[249 rows x 7 columns]"
      ]
     },
     "execution_count": 56,
     "metadata": {},
     "output_type": "execute_result"
    }
   ],
   "source": [
    "sbi.sort_values('Close',ascending= False) #Will sort in descending order "
   ]
  },
  {
   "cell_type": "markdown",
   "metadata": {},
   "source": [
    "# Slicing in Dataframe"
   ]
  },
  {
   "cell_type": "code",
   "execution_count": 59,
   "metadata": {
    "ExecuteTime": {
     "end_time": "2021-05-01T07:43:40.595668Z",
     "start_time": "2021-05-01T07:43:40.523854Z"
    }
   },
   "outputs": [
    {
     "data": {
      "text/html": [
       "<div>\n",
       "<style scoped>\n",
       "    .dataframe tbody tr th:only-of-type {\n",
       "        vertical-align: middle;\n",
       "    }\n",
       "\n",
       "    .dataframe tbody tr th {\n",
       "        vertical-align: top;\n",
       "    }\n",
       "\n",
       "    .dataframe thead th {\n",
       "        text-align: right;\n",
       "    }\n",
       "</style>\n",
       "<table border=\"1\" class=\"dataframe\">\n",
       "  <thead>\n",
       "    <tr style=\"text-align: right;\">\n",
       "      <th></th>\n",
       "      <th>Open</th>\n",
       "      <th>Low</th>\n",
       "    </tr>\n",
       "  </thead>\n",
       "  <tbody>\n",
       "    <tr>\n",
       "      <th>0</th>\n",
       "      <td>183.500000</td>\n",
       "      <td>180.500000</td>\n",
       "    </tr>\n",
       "    <tr>\n",
       "      <th>1</th>\n",
       "      <td>182.000000</td>\n",
       "      <td>181.199997</td>\n",
       "    </tr>\n",
       "    <tr>\n",
       "      <th>2</th>\n",
       "      <td>185.000000</td>\n",
       "      <td>183.500000</td>\n",
       "    </tr>\n",
       "    <tr>\n",
       "      <th>3</th>\n",
       "      <td>193.500000</td>\n",
       "      <td>189.699997</td>\n",
       "    </tr>\n",
       "    <tr>\n",
       "      <th>4</th>\n",
       "      <td>182.449997</td>\n",
       "      <td>178.000000</td>\n",
       "    </tr>\n",
       "    <tr>\n",
       "      <th>...</th>\n",
       "      <td>...</td>\n",
       "      <td>...</td>\n",
       "    </tr>\n",
       "    <tr>\n",
       "      <th>244</th>\n",
       "      <td>343.000000</td>\n",
       "      <td>338.649994</td>\n",
       "    </tr>\n",
       "    <tr>\n",
       "      <th>245</th>\n",
       "      <td>327.149994</td>\n",
       "      <td>321.299988</td>\n",
       "    </tr>\n",
       "    <tr>\n",
       "      <th>246</th>\n",
       "      <td>335.100006</td>\n",
       "      <td>326.700012</td>\n",
       "    </tr>\n",
       "    <tr>\n",
       "      <th>247</th>\n",
       "      <td>326.000000</td>\n",
       "      <td>323.299988</td>\n",
       "    </tr>\n",
       "    <tr>\n",
       "      <th>248</th>\n",
       "      <td>331.649994</td>\n",
       "      <td>331.649994</td>\n",
       "    </tr>\n",
       "  </tbody>\n",
       "</table>\n",
       "<p>249 rows × 2 columns</p>\n",
       "</div>"
      ],
      "text/plain": [
       "           Open         Low\n",
       "0    183.500000  180.500000\n",
       "1    182.000000  181.199997\n",
       "2    185.000000  183.500000\n",
       "3    193.500000  189.699997\n",
       "4    182.449997  178.000000\n",
       "..          ...         ...\n",
       "244  343.000000  338.649994\n",
       "245  327.149994  321.299988\n",
       "246  335.100006  326.700012\n",
       "247  326.000000  323.299988\n",
       "248  331.649994  331.649994\n",
       "\n",
       "[249 rows x 2 columns]"
      ]
     },
     "execution_count": 59,
     "metadata": {},
     "output_type": "execute_result"
    }
   ],
   "source": [
    "sbi.iloc[:,[1,3]] # Displays column with 1st and 3rd index"
   ]
  },
  {
   "cell_type": "code",
   "execution_count": 61,
   "metadata": {
    "ExecuteTime": {
     "end_time": "2021-05-01T07:46:22.551352Z",
     "start_time": "2021-05-01T07:46:22.528416Z"
    }
   },
   "outputs": [
    {
     "data": {
      "text/plain": [
       "0      183.500000\n",
       "1      182.000000\n",
       "2      185.000000\n",
       "3      193.500000\n",
       "4      182.449997\n",
       "          ...    \n",
       "244    343.000000\n",
       "245    327.149994\n",
       "246    335.100006\n",
       "247    326.000000\n",
       "248    331.649994\n",
       "Name: Open, Length: 249, dtype: float64"
      ]
     },
     "execution_count": 61,
     "metadata": {},
     "output_type": "execute_result"
    }
   ],
   "source": [
    "sbi.iloc[:,1] # Displays column with index 1 "
   ]
  },
  {
   "cell_type": "code",
   "execution_count": 63,
   "metadata": {
    "ExecuteTime": {
     "end_time": "2021-05-01T07:47:48.870332Z",
     "start_time": "2021-05-01T07:47:48.826445Z"
    }
   },
   "outputs": [
    {
     "data": {
      "text/html": [
       "<div>\n",
       "<style scoped>\n",
       "    .dataframe tbody tr th:only-of-type {\n",
       "        vertical-align: middle;\n",
       "    }\n",
       "\n",
       "    .dataframe tbody tr th {\n",
       "        vertical-align: top;\n",
       "    }\n",
       "\n",
       "    .dataframe thead th {\n",
       "        text-align: right;\n",
       "    }\n",
       "</style>\n",
       "<table border=\"1\" class=\"dataframe\">\n",
       "  <thead>\n",
       "    <tr style=\"text-align: right;\">\n",
       "      <th></th>\n",
       "      <th>Open</th>\n",
       "      <th>High</th>\n",
       "      <th>Low</th>\n",
       "    </tr>\n",
       "  </thead>\n",
       "  <tbody>\n",
       "    <tr>\n",
       "      <th>0</th>\n",
       "      <td>183.500000</td>\n",
       "      <td>183.500000</td>\n",
       "      <td>180.500000</td>\n",
       "    </tr>\n",
       "    <tr>\n",
       "      <th>1</th>\n",
       "      <td>182.000000</td>\n",
       "      <td>185.350006</td>\n",
       "      <td>181.199997</td>\n",
       "    </tr>\n",
       "    <tr>\n",
       "      <th>2</th>\n",
       "      <td>185.000000</td>\n",
       "      <td>191.800003</td>\n",
       "      <td>183.500000</td>\n",
       "    </tr>\n",
       "    <tr>\n",
       "      <th>3</th>\n",
       "      <td>193.500000</td>\n",
       "      <td>195.899994</td>\n",
       "      <td>189.699997</td>\n",
       "    </tr>\n",
       "    <tr>\n",
       "      <th>4</th>\n",
       "      <td>182.449997</td>\n",
       "      <td>183.500000</td>\n",
       "      <td>178.000000</td>\n",
       "    </tr>\n",
       "    <tr>\n",
       "      <th>...</th>\n",
       "      <td>...</td>\n",
       "      <td>...</td>\n",
       "      <td>...</td>\n",
       "    </tr>\n",
       "    <tr>\n",
       "      <th>244</th>\n",
       "      <td>343.000000</td>\n",
       "      <td>345.500000</td>\n",
       "      <td>338.649994</td>\n",
       "    </tr>\n",
       "    <tr>\n",
       "      <th>245</th>\n",
       "      <td>327.149994</td>\n",
       "      <td>332.049988</td>\n",
       "      <td>321.299988</td>\n",
       "    </tr>\n",
       "    <tr>\n",
       "      <th>246</th>\n",
       "      <td>335.100006</td>\n",
       "      <td>339.899994</td>\n",
       "      <td>326.700012</td>\n",
       "    </tr>\n",
       "    <tr>\n",
       "      <th>247</th>\n",
       "      <td>326.000000</td>\n",
       "      <td>337.649994</td>\n",
       "      <td>323.299988</td>\n",
       "    </tr>\n",
       "    <tr>\n",
       "      <th>248</th>\n",
       "      <td>331.649994</td>\n",
       "      <td>339.899994</td>\n",
       "      <td>331.649994</td>\n",
       "    </tr>\n",
       "  </tbody>\n",
       "</table>\n",
       "<p>249 rows × 3 columns</p>\n",
       "</div>"
      ],
      "text/plain": [
       "           Open        High         Low\n",
       "0    183.500000  183.500000  180.500000\n",
       "1    182.000000  185.350006  181.199997\n",
       "2    185.000000  191.800003  183.500000\n",
       "3    193.500000  195.899994  189.699997\n",
       "4    182.449997  183.500000  178.000000\n",
       "..          ...         ...         ...\n",
       "244  343.000000  345.500000  338.649994\n",
       "245  327.149994  332.049988  321.299988\n",
       "246  335.100006  339.899994  326.700012\n",
       "247  326.000000  337.649994  323.299988\n",
       "248  331.649994  339.899994  331.649994\n",
       "\n",
       "[249 rows x 3 columns]"
      ]
     },
     "execution_count": 63,
     "metadata": {},
     "output_type": "execute_result"
    }
   ],
   "source": [
    "sbi.iloc[:,1:4] # Displays column from 1st to 3rd index will not display 4th col according to pythonic way"
   ]
  },
  {
   "cell_type": "code",
   "execution_count": 64,
   "metadata": {
    "ExecuteTime": {
     "end_time": "2021-05-01T07:48:58.584065Z",
     "start_time": "2021-05-01T07:48:58.566100Z"
    }
   },
   "outputs": [
    {
     "data": {
      "text/plain": [
       "'C:\\\\Users\\\\Chetana\\\\AnacondaPgm'"
      ]
     },
     "execution_count": 64,
     "metadata": {},
     "output_type": "execute_result"
    }
   ],
   "source": [
    "import os\n",
    "os.getcwd() # Will display the location where jupyter notebook is saved"
   ]
  },
  {
   "cell_type": "code",
   "execution_count": null,
   "metadata": {},
   "outputs": [],
   "source": []
  }
 ],
 "metadata": {
  "kernelspec": {
   "display_name": "Python 3",
   "language": "python",
   "name": "python3"
  },
  "language_info": {
   "codemirror_mode": {
    "name": "ipython",
    "version": 3
   },
   "file_extension": ".py",
   "mimetype": "text/x-python",
   "name": "python",
   "nbconvert_exporter": "python",
   "pygments_lexer": "ipython3",
   "version": "3.8.5"
  }
 },
 "nbformat": 4,
 "nbformat_minor": 4
}
